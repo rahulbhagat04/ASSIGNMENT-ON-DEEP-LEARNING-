{
  "cells": [
    {
      "cell_type": "markdown",
      "metadata": {
        "id": "dlbYjzvD8SAF"
      },
      "source": [
        "# <p style=\"padding:10px;background-color:#87CEEB ;margin:10;color:#000000;font-family:newtimeroman;font-size:100%;text-align:center;border-radius: 10px 10px ;overflow:hidden;font-weight:50\">Part 1: Understanding Optimizers</p>"
      ]
    },
    {
      "cell_type": "markdown",
      "metadata": {
        "id": "EWvEN9Fw8SAF"
      },
      "source": [
        "## Q1. What is role of optimization algorithms in artificial neural networks? Why are they necessary?\n",
        "---"
      ]
    },
    {
      "cell_type": "markdown",
      "metadata": {
        "id": "xOqRbzEf8SAF"
      },
      "source": [
        "## Answer :"
      ]
    },
    {
      "cell_type": "markdown",
      "metadata": {
        "id": "hhUEEDmX8SAF"
      },
      "source": [
        "### Optimization algorithms play a crucial role in training artificial neural networks (ANNs). The primary purpose of optimization algorithms in this context is to find the optimal set of weights and biases for the neural network that minimizes a specific loss function. This process is known as training or optimization.\n",
        "\n",
        "### Here's why optimization algorithms are necessary in ANNs:\n",
        "\n",
        "1. `Minimizing the Loss Function`: In supervised learning tasks, ANNs are trained to make predictions based on input data. The network's performance is evaluated using a loss function, which measures the difference between the predicted output and the true target values. The goal is to minimize this loss function, so the network's predictions become more accurate. Optimization algorithms are used to find the weights and biases that achieve this minimum loss.\n",
        "\n",
        "2. `High-Dimensional Non-Convex Space`: ANNs have a vast number of parameters (weights and biases) that control the behavior of the network. The relationship between these parameters and the loss function forms a high-dimensional non-convex space. This means there are many local minima, maxima, and saddle points, making it challenging to find the global minimum (optimal solution) analytically. Optimization algorithms are designed to navigate this complex space efficiently and find a good solution.\n",
        "\n",
        "3. `Gradient-Based Optimization`: Most commonly used optimization algorithms in ANNs are gradient-based. They rely on calculating the gradient of the loss function with respect to the model's parameters. The gradient points in the direction of the steepest increase of the loss function. Optimization algorithms use this information to iteratively update the weights and biases in a way that moves them towards the direction of steepest decrease, eventually converging to a minimum.\n",
        "\n",
        "4. `Backpropagation`: Backpropagation is a widely used algorithm for computing gradients efficiently in ANNs. It allows the gradients to be propagated backward through the network from the output layer to the input layer, efficiently computing the gradient for each parameter. Optimization algorithms use these gradients to update the model's parameters during training.\n",
        "\n",
        "5. `Iterative Process`: Training ANNs is an iterative process that involves multiple passes over the training data (epochs). During each epoch, the optimization algorithm adjusts the model's parameters based on the gradients computed from the training data. This process continues until the model converges to a satisfactory solution or reaches a predefined stopping criterion.\n",
        "\n",
        "### In summary, optimization algorithms are essential in artificial neural networks to find the optimal configuration of model parameters, allowing the network to learn from data and make accurate predictions. Without these algorithms, training complex neural networks with a large number of parameters would be computationally infeasible and impractical.\n",
        "---\n",
        "---"
      ]
    },
    {
      "cell_type": "markdown",
      "metadata": {
        "id": "Ex0I4Gt68SAG"
      },
      "source": [
        "## Q2 : Explain the concept of gradient descent and its variants. Discuss their differences and tradeoffs in terms of convergence and memory requirements.\n",
        "---"
      ]
    },
    {
      "cell_type": "markdown",
      "metadata": {
        "id": "v_2yulvF8SAG"
      },
      "source": [
        "## Answer :"
      ]
    },
    {
      "cell_type": "markdown",
      "metadata": {
        "id": "emT4BCa-8SAH"
      },
      "source": [
        "### Gradient Descent is a fundamental optimization algorithm used to minimize a function (typically a loss function) by adjusting the parameters iteratively in the direction of the steepest descent (i.e., the opposite direction of the gradient). It is widely used in training artificial neural networks and other machine learning models.\n",
        "\n",
        "### The basic Gradient Descent algorithm works as follows:\n",
        "\n",
        "1. Initialize the model's parameters randomly.\n",
        "2. Compute the gradient of the loss function with respect to each parameter.\n",
        "3. Update each parameter by subtracting a small fraction (learning rate) of the corresponding gradient.\n",
        "4. Repeat steps 2 and 3 iteratively until convergence or a predefined number of iterations.\n",
        "\n",
        "### The learning rate determines the step size taken in the direction of the gradient and affects the convergence and stability of the algorithm. A small learning rate may lead to slow convergence, while a large learning rate may cause the algorithm to overshoot the optimal solution and potentially diverge.\n",
        "\n",
        "### There are several variants of Gradient Descent, each with its unique characteristics, tradeoffs, and memory requirements:\n",
        "\n",
        "1. `Stochastic Gradient Descent (SGD)`:\n",
        "SGD updates the model's parameters after evaluating the gradient on a single randomly chosen data point (or a small batch of data points) at each iteration. Because of its random nature, it introduces more noise, which can help escape local minima and speed up convergence. However, it may also lead to a more erratic and noisy convergence path, making the learning process somewhat unstable. SGD requires relatively less memory as it only needs to store gradients for a small batch of data.\n",
        "\n",
        "2. `Mini-batch Gradient Descent`:\n",
        "This variant is a compromise between SGD and full-batch Gradient Descent. It divides the training data into small batches (e.g., 32, 64, or 128 samples) and computes the average gradient for each batch. Mini-batch Gradient Descent strikes a balance between the noisy updates of SGD and the memory requirements of full-batch Gradient Descent. It is the most commonly used optimization algorithm in practice due to its efficiency and stability.\n",
        "\n",
        "3. `Batch Gradient Descent`:\n",
        "In this variant, the entire training dataset is used to compute the gradient of the loss function, and the model's parameters are updated after processing the entire dataset. Batch Gradient Descent typically provides smooth convergence due to a more accurate estimation of the gradient. However, it can be computationally expensive and memory-intensive, especially for large datasets.\n",
        "\n",
        "4. `Momentum`:\n",
        "Momentum is an extension to Gradient Descent that adds a velocity term to the parameter updates. It helps the optimization process by continuing to move in the direction of the previous updates with a certain momentum, reducing the oscillations and speeding up convergence. Momentum can help escape shallow local minima and provides some tolerance to noisy data.\n",
        "\n",
        "5. `Adagrad (Adaptive Gradient Algorithm)`:\n",
        "Adagrad adapts the learning rate for each parameter based on the historical squared gradients. It gives larger updates for infrequent parameters and smaller updates for frequent ones. This adaptive learning rate mechanism is beneficial when dealing with sparse data or when the scale of the parameters varies significantly.\n",
        "\n",
        "6. `RMSprop (Root Mean Square Propagation)`:\n",
        "RMSprop is a modification of Adagrad that addresses some of its limitations. It uses a moving average of squared gradients to normalize the learning rates, which helps prevent the learning rate from decaying too quickly.\n",
        "\n",
        "7. `Adam (Adaptive Moment Estimation)`:\n",
        "Adam combines the ideas of Momentum and RMSprop. It utilizes both the first-moment estimate (the mean of the gradients) and the second-moment estimate (the uncentered variance of the gradients) to adapt the learning rates for each parameter. Adam is widely used and is known for its robust performance across a wide range of problems.\n",
        "\n",
        "### Tradeoffs:\n",
        "\n",
        "- `Convergence`: Variants like SGD and Momentum may converge faster due to their ability to escape local minima and noise-tolerant nature. However, they might not converge as accurately as Batch Gradient Descent, which uses a more accurate gradient estimate.\n",
        "\n",
        "- `Memory Requirements`: Full-batch Gradient Descent needs to store the gradients for the entire dataset, which can be memory-intensive for large datasets. In contrast, SGD and Mini-batch Gradient Descent require less memory as they only need to store gradients for a small batch.\n",
        "\n",
        "- `Stability`: Full-batch Gradient Descent and Mini-batch Gradient Descent generally provide more stable and smooth convergence. On the other hand, variants like SGD and Momentum might exhibit more oscillations during the optimization process.\n",
        "\n",
        "### In summary, the choice of optimization algorithm and its variant depends on the specific problem, dataset size, and computational resources available. SGD and its variants are commonly used due to their efficiency, while the choice of the best algorithm often involves empirical evaluation and tuning to achieve the desired convergence speed and accuracy."
      ]
    },
    {
      "cell_type": "markdown",
      "metadata": {
        "id": "QiSU3h4p8SAH"
      },
      "source": [
        "---\n",
        "---"
      ]
    },
    {
      "cell_type": "markdown",
      "metadata": {
        "id": "C3fMhmej8SAH"
      },
      "source": [
        "## Q3. Describe the challenges associated with traditional gradient descent optimization methods (eg. Slow Convergence, Local Minima). How do modern optimizers adress these challenges?\n",
        "---"
      ]
    },
    {
      "cell_type": "markdown",
      "metadata": {
        "id": "ke6QkvZM8SAH"
      },
      "source": [
        "## Answer :"
      ]
    },
    {
      "cell_type": "markdown",
      "metadata": {
        "id": "h-wgiUrc8SAH"
      },
      "source": [
        "### Traditional gradient descent optimization methods, such as basic Gradient Descent and Stochastic Gradient Descent (SGD), face several challenges that can hinder their efficiency and effectiveness in training artificial neural networks. Some of the key challenges are:\n",
        "\n",
        "1. `Slow Convergence`: Traditional optimization methods can have slow convergence rates, especially when dealing with deep neural networks or complex loss landscapes. In these cases, the optimization process may get stuck in regions of the parameter space where the gradient is shallow, leading to slow progress towards the optimal solution.\n",
        "\n",
        "2. `Local Minima and Plateaus`: The loss landscape of neural networks is highly non-convex, meaning it has many local minima, saddle points, and plateaus. Traditional optimizers can get trapped in local minima, preventing them from reaching the global minimum and obtaining the best possible solution.\n",
        "\n",
        "3. `Learning Rate Selection`: Setting an appropriate learning rate for traditional gradient descent methods can be challenging. A learning rate that is too large can cause the optimization process to diverge, while a learning rate that is too small can lead to slow convergence or getting stuck in local minima.\n",
        "\n",
        "4. `Oscillations`: In some cases, the optimization process may exhibit oscillations, where the parameter updates move back and forth without converging. This can happen when the learning rate is not properly tuned or when dealing with noisy gradients, especially in the case of SGD.\n",
        "\n",
        "### To address these challenges, modern optimizers have been developed, and they utilize various techniques to overcome these limitations and improve the optimization process. Some popular modern optimizers include:\n",
        "\n",
        "1. `Momentum`: Momentum addresses the slow convergence problem by adding a velocity term to the parameter updates. This helps the optimization process to continue moving in the direction of the previous updates, enabling faster convergence and reducing oscillations.\n",
        "\n",
        "2. `Adaptive Learning Rates`: Optimizers like Adagrad, RMSprop, and Adam adapt the learning rates for each parameter based on historical information about the gradients. This adaptivity allows the optimizer to use larger learning rates for infrequent parameters and smaller learning rates for frequent ones. Adaptive learning rates help prevent the learning rate from decaying too quickly, making the optimization process more efficient.\n",
        "\n",
        "3. `Second-Order Methods`: Newton's method and variants like the Hessian matrix-based optimization methods can provide more accurate estimates of the optimal parameters by taking into account second-order information about the loss function. However, they can be computationally expensive and might require additional memory to store the Hessian matrix.\n",
        "\n",
        "4. `Batch Normalization`: Batch normalization is a technique applied to the activations of a neural network, which helps to reduce internal covariate shift. By normalizing the activations in each mini-batch during training, it improves the stability of the optimization process and enables the use of higher learning rates.\n",
        "\n",
        "5. `Weight Initialization`: Proper weight initialization techniques can help mitigate the issue of getting stuck in poor local minima during the early stages of training. Methods like Xavier/Glorot initialization and He initialization set the initial weights of the network in a way that encourages a smoother optimization process.\n",
        "\n",
        "6. `Learning Rate Schedules`: Modern optimizers often employ learning rate schedules, where the learning rate is adjusted over time during training. Learning rate schedules can start with larger learning rates to make more substantial updates initially and then gradually decrease the learning rate as training progresses, allowing for more precise fine-tuning.\n",
        "\n",
        "### By incorporating these techniques, modern optimizers are better equipped to tackle the challenges associated with traditional gradient descent methods. They generally lead to faster convergence, improved stability, and better exploration of the parameter space, making them more effective in training complex neural networks and deep learning models. However, the choice of optimizer and its hyperparameters can still require some empirical experimentation and tuning to achieve the best results for a specific problem.\n",
        "---\n",
        "---"
      ]
    },
    {
      "cell_type": "markdown",
      "metadata": {
        "id": "s907dhm18SAH"
      },
      "source": [
        "## Q4. Discuss the concepts of momentum and learning rate in the context of optimization algorithms. How do they impact convergence and model performance.\n",
        "---"
      ]
    },
    {
      "cell_type": "markdown",
      "metadata": {
        "id": "TMyGxAyQ8SAI"
      },
      "source": [
        "## Answer :"
      ]
    },
    {
      "cell_type": "markdown",
      "metadata": {
        "id": "YtND56lR8SAI"
      },
      "source": [
        "### In the context of optimization algorithms, momentum and learning rate are two essential concepts that significantly impact convergence and model performance. They are commonly used in modern optimization algorithms, particularly in training neural networks.\n",
        "\n",
        "1. `Momentum`:\n",
        "\n",
        "Momentum is a technique used to accelerate the convergence of optimization algorithms, especially in the presence of sparse gradients and noisy data. It addresses the problem of slow convergence by adding a \"momentum\" term to the parameter updates. The momentum term helps the optimizer to continue moving in the direction of the previous updates, which can be seen as adding inertia to the optimization process.\n",
        "\n",
        "### Mathematically, the update rule for a parameter using momentum is as follows:\n",
        "\n",
        "```\n",
        "v(t) = beta * v(t-1) + (1 - beta) * gradient\n",
        "parameter = parameter - learning_rate * v(t)\n",
        "```\n",
        "\n",
        "where:\n",
        "- `v(t)` is the velocity at time step t, which represents the accumulated gradient direction from previous time steps.\n",
        "- `beta` is the momentum coefficient (typically a value between 0 and 1) that determines how much of the previous velocity is retained. A higher value of beta gives more weight to previous updates.\n",
        "\n",
        "### Impact on Convergence and Model Performance:\n",
        "\n",
        "- `Faster Convergence`: Momentum helps the optimizer to navigate through shallow regions and narrow valleys more efficiently. By carrying forward the accumulated direction from previous updates, momentum accelerates the convergence process and reduces the oscillations that can occur during optimization.\n",
        "\n",
        "- `Escaping Local Minima`: The momentum term allows the optimizer to escape shallow local minima, enabling it to explore the parameter space more effectively and potentially find better solutions.\n",
        "\n",
        "- `Dampening Oscillations`: When dealing with noisy or sparse gradients, momentum helps to dampen the oscillations that can occur during the optimization process, leading to more stable updates.\n",
        "\n",
        "### However, very high momentum values can cause the optimizer to overshoot the minimum and lead to instability in convergence. Therefore, choosing an appropriate value for the momentum coefficient is crucial and often requires empirical tuning.\n",
        "\n",
        "2. `Learning Rate`:\n",
        "\n",
        "The learning rate is a hyperparameter that determines the step size taken in the direction of the gradient during each iteration of the optimization process. It controls the rate at which the model's parameters are updated.\n",
        "\n",
        "### Mathematically, the update rule for a parameter using the learning rate is as follows:\n",
        "\n",
        "```\n",
        "parameter = parameter - learning_rate * gradient\n",
        "```\n",
        "\n",
        "### Impact on Convergence and Model Performance:\n",
        "\n",
        "- `Learning Rate Too Small`: A small learning rate slows down the optimization process, as the updates are tiny, and it may take a long time to reach the optimal solution. Additionally, a very small learning rate may cause the optimization to get stuck in local minima or plateaus.\n",
        "\n",
        "- `Learning Rate Too Large`: A large learning rate can lead to overshooting the optimal solution, causing the optimization process to diverge. It can cause instability and result in the model failing to converge.\n",
        "\n",
        "- `Learning Rate Schedules`: Often, a learning rate schedule is used, where the learning rate is decreased over time during training. This approach starts with a larger learning rate to make more substantial updates in the early stages and gradually decreases the learning rate as training progresses. Learning rate schedules help achieve more stable convergence and fine-tuning of the model towards the end of training.\n",
        "\n",
        "- `Adaptive Learning Rates`: Adaptive optimization algorithms, like RMSprop and Adam, dynamically adjust the learning rate based on historical information about the gradients. This adaptivity helps in efficiently tuning the learning rate for different parameters and can lead to faster convergence and better performance.\n",
        "\n",
        "### In summary, both momentum and learning rate play critical roles in the optimization process of neural networks. Properly tuning these hyperparameters is essential for achieving faster convergence, stable optimization, and better overall performance of the trained model.\n",
        "---\n",
        "---"
      ]
    },
    {
      "cell_type": "markdown",
      "metadata": {
        "id": "InIB4GBV8SAI"
      },
      "source": [
        "# <p style=\"padding:10px;background-color:#87CEEB ;margin:10;color:#000000;font-family:newtimeroman;font-size:100%;text-align:center;border-radius: 10px 10px ;overflow:hidden;font-weight:50\">Part 2 : Optimizer Techniques</p>"
      ]
    },
    {
      "cell_type": "markdown",
      "metadata": {
        "id": "EBKLXNtl8SAI"
      },
      "source": [
        "## Q5. Explain concept of Stochastic Gradient Descent (SGD) and its advantages compared to traditional gradient descent. Discuss limitations and scenarios where it is most suitable.\n",
        "---"
      ]
    },
    {
      "cell_type": "markdown",
      "metadata": {
        "id": "yw6CEOWl8SAI"
      },
      "source": [
        "## Answer :"
      ]
    },
    {
      "cell_type": "markdown",
      "metadata": {
        "id": "VS_dhsWg8SAI"
      },
      "source": [
        "### Stochastic Gradient Descent (SGD) is a variant of the traditional gradient descent optimization algorithm used in training machine learning models, especially in the context of large datasets and deep neural networks. Unlike the traditional gradient descent, which computes the gradient using the entire dataset, SGD updates the model's parameters after evaluating the gradient on a single randomly chosen data point (or a small batch of data points) at each iteration.\n",
        "\n",
        "### The update rule for a parameter using SGD can be represented as follows:\n",
        "\n",
        "```\n",
        "parameter = parameter - learning_rate * gradient(data_point)\n",
        "```\n",
        "\n",
        "where:\n",
        "- `parameter`: The model's parameter being updated.\n",
        "- `learning_rate`: The hyperparameter that controls the step size for parameter updates.\n",
        "- `gradient(data_point)`: The gradient of the loss function with respect to the parameter, computed using a single data point.\n",
        "\n",
        "### Advantages of Stochastic Gradient Descent over Traditional Gradient Descent:\n",
        "\n",
        "1. `Faster Updates`: SGD updates the model's parameters more frequently since it processes only one data point (or a small batch) at a time. This can lead to faster convergence, especially in the early stages of training, as it allows the model to quickly adjust its weights based on the most recent data.\n",
        "\n",
        "2. `Lower Memory Requirements`: Traditional gradient descent requires storing the gradients for the entire dataset in memory, which can be memory-intensive for large datasets. In contrast, SGD requires much less memory as it only needs to store the gradients for a single data point (or a small batch), making it more memory-efficient.\n",
        "\n",
        "3. `Noise-Tolerant`: The updates in SGD are more noisy compared to the batch gradient descent, as they are based on individual data points. This noise can help the optimization process escape shallow local minima and make the training more robust to noisy data.\n",
        "\n",
        "4. `Generalization`: SGD's noisy updates can lead to better generalization, as they prevent the model from overfitting to the training data. This is particularly useful when dealing with high-dimensional data and complex models like deep neural networks.\n",
        "\n",
        "### Limitations and Scenarios Where SGD is Most Suitable:\n",
        "\n",
        "1. `Noisy Updates`: The noisy updates in SGD can also be a limitation, as they may introduce more oscillations during optimization. While this can help the optimization process escape local minima, it might also slow down convergence or lead to suboptimal solutions.\n",
        "\n",
        "2. `Learning Rate Selection`: Setting an appropriate learning rate is crucial for SGD. A learning rate that is too large can cause the optimization process to diverge, while a learning rate that is too small can lead to slow convergence.\n",
        "\n",
        "3. `Incomplete Information`: Because SGD only considers a single data point (or a small batch) at a time, it may not provide an accurate estimate of the true gradient. This can lead to noisy updates and slower convergence compared to batch gradient descent in some cases.\n",
        "\n",
        "4. `Small Batch Size`: While using small batch sizes in SGD can reduce memory requirements, extremely small batch sizes can lead to noisy updates and slow convergence. Finding the right balance is essential.\n",
        "\n",
        "### Scenarios where SGD is most suitable:\n",
        "\n",
        "- `Large Datasets`: SGD is well-suited for large datasets when computing gradients on the entire dataset becomes computationally expensive and memory-intensive.\n",
        "\n",
        "- `Deep Learning`: In deep neural network training, where the number of parameters can be very high, SGD's efficiency in memory usage and faster updates make it a popular choice.\n",
        "\n",
        "- `Online Learning`: SGD is commonly used in online learning settings, where new data arrives in a continuous stream and the model needs to be updated incrementally.\n",
        "\n",
        "- `Noisy or Non-Stationary Data`: SGD can be more robust to noisy or non-stationary data compared to batch gradient descent, making it suitable for handling data with varying distributions or frequent updates.\n",
        "\n",
        "### In summary, SGD offers advantages in terms of speed and memory efficiency, making it a popular choice for training large-scale machine learning models, particularly in the domain of deep learning. However, the choice of learning rate, batch size, and the trade-off between convergence speed and noise tolerance requires careful consideration and experimentation.\n",
        "---\n",
        "---"
      ]
    },
    {
      "cell_type": "markdown",
      "metadata": {
        "id": "7Ylszw3f8SAJ"
      },
      "source": [
        "## Q6. Describe the concept of Adam Optimizer and how it combines momentum and adaptive learning rates. Discuss its benefits and potential drawbacks\n",
        "---"
      ]
    },
    {
      "cell_type": "markdown",
      "metadata": {
        "id": "L-jglVyI8SAJ"
      },
      "source": [
        "## Answer :"
      ]
    },
    {
      "cell_type": "markdown",
      "metadata": {
        "id": "23vVodXa8SAJ"
      },
      "source": [
        "### Adam (Adaptive Moment Estimation) is an advanced optimization algorithm that combines the ideas of momentum and adaptive learning rates. It is designed to provide fast and efficient convergence while being robust to different types of data and architectures, making it one of the most popular optimization methods for training neural networks.\n",
        "\n",
        "### The key components of the Adam optimizer are:\n",
        "\n",
        "1. `Momentum`: Like momentum-based optimizers, Adam uses a momentum term to keep track of the moving average of past gradients. This helps the optimizer to continue moving in the direction of the previous updates, aiding in faster convergence and reducing oscillations.\n",
        "\n",
        "2. `Adaptive Learning Rates`: Adam adapts the learning rate for each parameter based on the past gradients. It maintains a running estimate of the first-moment (mean) of the gradients and the second-moment (uncentered variance) of the gradients. These estimates are biased toward zero at the beginning, so the algorithm applies a bias correction term to make the estimates unbiased.\n",
        "\n",
        "### The update rule for a parameter using Adam can be represented as follows:\n",
        "\n",
        "```\n",
        "m(t) = beta1 * m(t-1) + (1 - beta1) * gradient\n",
        "v(t) = beta2 * v(t-1) + (1 - beta2) * gradient^2\n",
        "\n",
        "m_hat = m(t) / (1 - beta1^t)\n",
        "v_hat = v(t) / (1 - beta2^t)\n",
        "\n",
        "parameter = parameter - learning_rate * m_hat / (sqrt(v_hat) + epsilon)\n",
        "```\n",
        "\n",
        "where:\n",
        "- `m(t)`: The first-moment estimate (mean) of the gradients at time step t.\n",
        "- `v(t)`: The second-moment estimate (uncentered variance) of the gradients at time step t.\n",
        "- `beta1` and `beta2`: Exponential decay rates for the moving averages (typically close to 1 but less than 1).\n",
        "- `learning_rate`: The hyperparameter that controls the step size for parameter updates.\n",
        "- `epsilon`: A small constant added to the denominator to prevent division by zero.\n",
        "\n",
        "### Benefits of Adam Optimizer:\n",
        "\n",
        "1. `Fast Convergence`: By combining momentum and adaptive learning rates, Adam often converges faster than traditional optimization algorithms like SGD and even some adaptive methods like RMSprop.\n",
        "\n",
        "2. `Adaptive Learning Rates`: The adaptive learning rate mechanism allows Adam to effectively tune the learning rates for each parameter, providing faster convergence and better generalization.\n",
        "\n",
        "3. `Robustness`: Adam's robustness to noisy gradients and varying learning rates makes it suitable for a wide range of architectures and problem domains.\n",
        "\n",
        "4. `Low Memory Requirements`: Adam only requires storage for the first and second-moment estimates per parameter, making it memory-efficient even for large-scale neural networks.\n",
        "\n",
        "### Potential Drawbacks of Adam Optimizer:\n",
        "\n",
        "1. `Hyperparameter Sensitivity`: Adam has several hyperparameters, such as `beta1`, `beta2`, and `epsilon`, which need to be carefully tuned for optimal performance. Poor choices of these hyperparameters can lead to suboptimal convergence or instability.\n",
        "\n",
        "2. `Bias Correction`: The bias correction terms in the estimates can introduce some initial instability during the early training iterations before the estimates stabilize.\n",
        "\n",
        "3. `Noisy Updates`: Adam's adaptive learning rates can lead to noisy updates, which might result in some oscillations during the optimization process.\n",
        "\n",
        "4. `Not Suitable for All Cases`: While Adam performs well in many scenarios, it might not always be the best choice. For certain problems and architectures, simpler optimization algorithms like SGD or variants might provide better results.\n",
        "\n",
        "### In summary, Adam is a powerful optimization algorithm that combines momentum and adaptive learning rates to achieve fast convergence and robustness. It is widely used in deep learning due to its effectiveness in training complex neural networks. However, careful hyperparameter tuning and consideration of the problem's characteristics are necessary to leverage its benefits effectively.\n",
        "---\n",
        "---"
      ]
    },
    {
      "cell_type": "markdown",
      "metadata": {
        "id": "MH-J0d1d8SAJ"
      },
      "source": [
        "## Q7. Explain concept of RMSProp optimizer and how it addresses the challenges of adaptive learning rates. Compare it with Adam and discuss their relative strengths and weakness.\n",
        "---"
      ]
    },
    {
      "cell_type": "markdown",
      "metadata": {
        "id": "rUPujAld8SAK"
      },
      "source": [
        "## Answer :"
      ]
    },
    {
      "cell_type": "markdown",
      "metadata": {
        "id": "S41CdZ_48SAK"
      },
      "source": [
        "### RMSProp (Root Mean Square Propagation) is an optimization algorithm that addresses the challenges of adaptive learning rates, similar to Adam. It was introduced to improve upon the limitations of traditional gradient descent and to overcome some issues of Adagrad, another adaptive learning rate optimizer.\n",
        "\n",
        "### Concept of RMSProp:\n",
        "\n",
        "### RMSProp modifies the learning rates for each parameter by adapting the learning rate based on the historical average of squared gradients. It utilizes an exponentially decaying average of squared gradients to rescale the learning rates for each parameter. This adaptivity allows the optimizer to give larger updates for infrequent parameters and smaller updates for frequent ones, making it more suitable for non-convex optimization problems like training neural networks.\n",
        "\n",
        "### The update rule for a parameter using RMSProp can be represented as follows:\n",
        "\n",
        "```\n",
        "v(t) = beta * v(t-1) + (1 - beta) * gradient^2\n",
        "parameter = parameter - learning_rate * gradient / (sqrt(v(t)) + epsilon)\n",
        "```\n",
        "\n",
        "where:\n",
        "- `v(t)`: The exponential moving average of squared gradients at time step t.\n",
        "- `beta`: Exponential decay rate (typically close to 1 but less than 1).\n",
        "- `learning_rate`: The hyperparameter that controls the step size for parameter updates.\n",
        "- `epsilon`: A small constant added to the denominator to prevent division by zero.\n",
        "\n",
        "### Comparison of RMSProp and Adam:\n",
        "\n",
        "1. `Similarity`: Both RMSProp and Adam are adaptive learning rate algorithms that adjust the learning rates for each parameter based on historical gradient information. They both aim to improve the convergence speed and performance of the optimization process.\n",
        "\n",
        "2. `Distinction`: The primary difference between RMSProp and Adam lies in the way they update the moving average of squared gradients (`v(t)` in the update rules).\n",
        "\n",
        "3. `Adaptive Learning Rates`: Both RMSProp and Adam provide adaptive learning rates, which allow them to effectively tune the learning rates for each parameter based on the historical gradients. This adaptivity can lead to faster convergence and better performance.\n",
        "\n",
        "### Relative Strengths:\n",
        "\n",
        "- `RMSProp`: It is computationally less expensive than Adam since it does not maintain the moving average of first-order moments (mean of gradients) like Adam. As a result, RMSProp may require less memory and computation.\n",
        "\n",
        "- `Adam`: Adam often shows better performance and faster convergence compared to RMSProp in practice. The inclusion of the first-moment estimate (momentum) in Adam makes it more effective in handling noisy gradients and escaping shallow local minima.\n",
        "\n",
        "### Relative Weaknesses:\n",
        "\n",
        "- `RMSProp`: The learning rates may still need manual tuning for optimal performance, especially in cases with highly variable gradients or complex loss landscapes.\n",
        "\n",
        "- `Adam`: The inclusion of both first and second-moment estimates in Adam can introduce additional hyperparameters (`beta1` and `beta2`) to tune, making it more sensitive to the choice of hyperparameters. Poor hyperparameter choices can lead to suboptimal convergence or instability.\n",
        "\n",
        "### Choosing Between RMSProp and Adam:\n",
        "\n",
        "### The choice between RMSProp and Adam depends on the specific problem, dataset, and architecture being used. In practice, Adam is generally more popular due to its robustness and often faster convergence. However, it might require more hyperparameter tuning compared to RMSProp. If computational resources or memory constraints are a concern, RMSProp can be a good alternative to Adam, as it can be computationally more efficient while still providing adaptive learning rates. For small and moderate-sized datasets or simpler models, RMSProp might suffice, while for large-scale, complex models, Adam is often the preferred choice. It's important to experiment and compare the performance of both optimizers on your specific problem to determine the most suitable one for your application.\n",
        "---\n",
        "---"
      ]
    },
    {
      "cell_type": "markdown",
      "metadata": {
        "id": "a4DQtxTY8SAK"
      },
      "source": [
        "# <p style=\"padding:10px;background-color:#87CEEB ;margin:10;color:#000000;font-family:newtimeroman;font-size:100%;text-align:center;border-radius: 10px 10px ;overflow:hidden;font-weight:50\">Part 3 : Applying Optimizers</p>"
      ]
    },
    {
      "cell_type": "markdown",
      "metadata": {
        "id": "_EkFFxxv8SAL"
      },
      "source": [
        "## Q8. Implement SGD, Adam, and RMSProp optimizers in deep learning model using framework of your choice. Train the model on suitable dataset and compare their impact on model convergence and performance.\n",
        "---"
      ]
    },
    {
      "cell_type": "markdown",
      "metadata": {
        "id": "uEUearvb8SAL"
      },
      "source": [
        "## Answer :"
      ]
    },
    {
      "cell_type": "markdown",
      "metadata": {
        "id": "CAN9mzHP8SAL"
      },
      "source": [
        "### Create binary classification dataset :"
      ]
    },
    {
      "cell_type": "code",
      "execution_count": null,
      "metadata": {
        "id": "3IDLN-nX8SAL"
      },
      "outputs": [],
      "source": [
        "from sklearn.datasets import make_classification\n",
        "X, Y = make_classification(n_samples=6000, n_classes=2, n_features=30, n_informative=15, random_state=42)"
      ]
    },
    {
      "cell_type": "code",
      "execution_count": null,
      "metadata": {
        "id": "tId1AjAA8SAM",
        "outputId": "c60cd2e5-89c6-4b9c-8f4c-b2fee059633e"
      },
      "outputs": [
        {
          "data": {
            "text/plain": [
              "array([[  1.52285216,  -1.49389723,  -1.9692536 , ...,  -2.62517177,\n",
              "         -2.89988744,   0.64148094],\n",
              "       [ -0.96175893,  -1.02358023,   1.06754189, ...,  -4.46144893,\n",
              "         -2.36367735,   0.84276158],\n",
              "       [  0.8811009 ,   0.91976806,   0.03229224, ...,   6.46100037,\n",
              "         -1.77300873,  -0.28045463],\n",
              "       ...,\n",
              "       [ -0.35110241,   0.19470838,  -0.13692354, ...,   6.38890817,\n",
              "         -0.11350403,  -3.36359598],\n",
              "       [ -0.8676344 ,  -0.02924436,   0.15738488, ...,   7.91147633,\n",
              "         -4.60465145,  -0.68525265],\n",
              "       [  1.33422947,   0.84729414,  -0.25055607, ..., -11.44993352,\n",
              "         -4.27272824,  -1.62696704]])"
            ]
          },
          "execution_count": 2,
          "metadata": {},
          "output_type": "execute_result"
        }
      ],
      "source": [
        "X"
      ]
    },
    {
      "cell_type": "code",
      "execution_count": null,
      "metadata": {
        "id": "s1tC9P6p8SAN",
        "outputId": "159ce54d-2ed3-4a32-ad3c-a01027130288"
      },
      "outputs": [
        {
          "name": "stdout",
          "output_type": "stream",
          "text": [
            "['x1', 'x2', 'x3', 'x4', 'x5', 'x6', 'x7', 'x8', 'x9', 'x10', 'x11', 'x12', 'x13', 'x14', 'x15', 'x16', 'x17', 'x18', 'x19', 'x20', 'x21', 'x22', 'x23', 'x24', 'x25', 'x26', 'x27', 'x28', 'x29', 'x30']\n"
          ]
        }
      ],
      "source": [
        "cols = [f'x{i+1}' for i in range(30)]\n",
        "print(cols)"
      ]
    },
    {
      "cell_type": "code",
      "execution_count": null,
      "metadata": {
        "id": "rQ6BJM5U8SAN",
        "outputId": "1de7673b-5500-4dcd-e7e3-89104233da64"
      },
      "outputs": [
        {
          "data": {
            "text/html": [
              "<div>\n",
              "<style scoped>\n",
              "    .dataframe tbody tr th:only-of-type {\n",
              "        vertical-align: middle;\n",
              "    }\n",
              "\n",
              "    .dataframe tbody tr th {\n",
              "        vertical-align: top;\n",
              "    }\n",
              "\n",
              "    .dataframe thead th {\n",
              "        text-align: right;\n",
              "    }\n",
              "</style>\n",
              "<table border=\"1\" class=\"dataframe\">\n",
              "  <thead>\n",
              "    <tr style=\"text-align: right;\">\n",
              "      <th></th>\n",
              "      <th>x1</th>\n",
              "      <th>x2</th>\n",
              "      <th>x3</th>\n",
              "      <th>x4</th>\n",
              "      <th>x5</th>\n",
              "      <th>x6</th>\n",
              "      <th>x7</th>\n",
              "      <th>x8</th>\n",
              "      <th>x9</th>\n",
              "      <th>x10</th>\n",
              "      <th>...</th>\n",
              "      <th>x21</th>\n",
              "      <th>x22</th>\n",
              "      <th>x23</th>\n",
              "      <th>x24</th>\n",
              "      <th>x25</th>\n",
              "      <th>x26</th>\n",
              "      <th>x27</th>\n",
              "      <th>x28</th>\n",
              "      <th>x29</th>\n",
              "      <th>x30</th>\n",
              "    </tr>\n",
              "  </thead>\n",
              "  <tbody>\n",
              "    <tr>\n",
              "      <th>0</th>\n",
              "      <td>1.522852</td>\n",
              "      <td>-1.493897</td>\n",
              "      <td>-1.969254</td>\n",
              "      <td>-1.950937</td>\n",
              "      <td>0.729409</td>\n",
              "      <td>-0.505545</td>\n",
              "      <td>-1.548064</td>\n",
              "      <td>1.425791</td>\n",
              "      <td>-3.304799</td>\n",
              "      <td>-0.439496</td>\n",
              "      <td>...</td>\n",
              "      <td>-0.700752</td>\n",
              "      <td>-1.188037</td>\n",
              "      <td>1.321142</td>\n",
              "      <td>3.119569</td>\n",
              "      <td>3.247756</td>\n",
              "      <td>-2.564369</td>\n",
              "      <td>1.586801</td>\n",
              "      <td>-2.625172</td>\n",
              "      <td>-2.899887</td>\n",
              "      <td>0.641481</td>\n",
              "    </tr>\n",
              "    <tr>\n",
              "      <th>1</th>\n",
              "      <td>-0.961759</td>\n",
              "      <td>-1.023580</td>\n",
              "      <td>1.067542</td>\n",
              "      <td>-4.162742</td>\n",
              "      <td>1.798332</td>\n",
              "      <td>0.290994</td>\n",
              "      <td>-0.460173</td>\n",
              "      <td>-0.896801</td>\n",
              "      <td>0.016522</td>\n",
              "      <td>-1.341976</td>\n",
              "      <td>...</td>\n",
              "      <td>-1.020864</td>\n",
              "      <td>-0.796174</td>\n",
              "      <td>0.995266</td>\n",
              "      <td>-0.434632</td>\n",
              "      <td>0.049613</td>\n",
              "      <td>-2.943068</td>\n",
              "      <td>4.405926</td>\n",
              "      <td>-4.461449</td>\n",
              "      <td>-2.363677</td>\n",
              "      <td>0.842762</td>\n",
              "    </tr>\n",
              "    <tr>\n",
              "      <th>2</th>\n",
              "      <td>0.881101</td>\n",
              "      <td>0.919768</td>\n",
              "      <td>0.032292</td>\n",
              "      <td>-2.042465</td>\n",
              "      <td>1.380894</td>\n",
              "      <td>-0.368263</td>\n",
              "      <td>1.692659</td>\n",
              "      <td>1.808263</td>\n",
              "      <td>-1.036441</td>\n",
              "      <td>0.258514</td>\n",
              "      <td>...</td>\n",
              "      <td>0.471950</td>\n",
              "      <td>2.116017</td>\n",
              "      <td>-3.997930</td>\n",
              "      <td>-2.947469</td>\n",
              "      <td>-0.580025</td>\n",
              "      <td>1.446176</td>\n",
              "      <td>5.814471</td>\n",
              "      <td>6.461000</td>\n",
              "      <td>-1.773009</td>\n",
              "      <td>-0.280455</td>\n",
              "    </tr>\n",
              "    <tr>\n",
              "      <th>3</th>\n",
              "      <td>-0.262708</td>\n",
              "      <td>-0.894839</td>\n",
              "      <td>0.835547</td>\n",
              "      <td>0.259482</td>\n",
              "      <td>0.126441</td>\n",
              "      <td>0.712318</td>\n",
              "      <td>-3.222290</td>\n",
              "      <td>-1.677167</td>\n",
              "      <td>2.845301</td>\n",
              "      <td>-0.583642</td>\n",
              "      <td>...</td>\n",
              "      <td>1.080646</td>\n",
              "      <td>0.105685</td>\n",
              "      <td>2.808264</td>\n",
              "      <td>-0.006864</td>\n",
              "      <td>1.389069</td>\n",
              "      <td>-0.401399</td>\n",
              "      <td>-3.077418</td>\n",
              "      <td>-6.144428</td>\n",
              "      <td>1.410733</td>\n",
              "      <td>0.831030</td>\n",
              "    </tr>\n",
              "    <tr>\n",
              "      <th>4</th>\n",
              "      <td>1.219532</td>\n",
              "      <td>0.339917</td>\n",
              "      <td>0.254114</td>\n",
              "      <td>-2.319354</td>\n",
              "      <td>-0.169682</td>\n",
              "      <td>1.744857</td>\n",
              "      <td>3.390834</td>\n",
              "      <td>0.170762</td>\n",
              "      <td>-0.171321</td>\n",
              "      <td>1.027932</td>\n",
              "      <td>...</td>\n",
              "      <td>-0.445666</td>\n",
              "      <td>-3.096679</td>\n",
              "      <td>4.626698</td>\n",
              "      <td>-2.421581</td>\n",
              "      <td>-1.976743</td>\n",
              "      <td>-1.058870</td>\n",
              "      <td>-4.647209</td>\n",
              "      <td>-10.108797</td>\n",
              "      <td>-0.213168</td>\n",
              "      <td>-3.011489</td>\n",
              "    </tr>\n",
              "  </tbody>\n",
              "</table>\n",
              "<p>5 rows × 30 columns</p>\n",
              "</div>"
            ],
            "text/plain": [
              "         x1        x2        x3        x4        x5        x6        x7  \\\n",
              "0  1.522852 -1.493897 -1.969254 -1.950937  0.729409 -0.505545 -1.548064   \n",
              "1 -0.961759 -1.023580  1.067542 -4.162742  1.798332  0.290994 -0.460173   \n",
              "2  0.881101  0.919768  0.032292 -2.042465  1.380894 -0.368263  1.692659   \n",
              "3 -0.262708 -0.894839  0.835547  0.259482  0.126441  0.712318 -3.222290   \n",
              "4  1.219532  0.339917  0.254114 -2.319354 -0.169682  1.744857  3.390834   \n",
              "\n",
              "         x8        x9       x10  ...       x21       x22       x23       x24  \\\n",
              "0  1.425791 -3.304799 -0.439496  ... -0.700752 -1.188037  1.321142  3.119569   \n",
              "1 -0.896801  0.016522 -1.341976  ... -1.020864 -0.796174  0.995266 -0.434632   \n",
              "2  1.808263 -1.036441  0.258514  ...  0.471950  2.116017 -3.997930 -2.947469   \n",
              "3 -1.677167  2.845301 -0.583642  ...  1.080646  0.105685  2.808264 -0.006864   \n",
              "4  0.170762 -0.171321  1.027932  ... -0.445666 -3.096679  4.626698 -2.421581   \n",
              "\n",
              "        x25       x26       x27        x28       x29       x30  \n",
              "0  3.247756 -2.564369  1.586801  -2.625172 -2.899887  0.641481  \n",
              "1  0.049613 -2.943068  4.405926  -4.461449 -2.363677  0.842762  \n",
              "2 -0.580025  1.446176  5.814471   6.461000 -1.773009 -0.280455  \n",
              "3  1.389069 -0.401399 -3.077418  -6.144428  1.410733  0.831030  \n",
              "4 -1.976743 -1.058870 -4.647209 -10.108797 -0.213168 -3.011489  \n",
              "\n",
              "[5 rows x 30 columns]"
            ]
          },
          "execution_count": 4,
          "metadata": {},
          "output_type": "execute_result"
        }
      ],
      "source": [
        "import pandas as pd\n",
        "X = pd.DataFrame(X,columns=cols)\n",
        "X.head()\n"
      ]
    },
    {
      "cell_type": "code",
      "execution_count": null,
      "metadata": {
        "id": "7bWnKno78SAO",
        "outputId": "287f47e5-c396-48e9-b8b6-e632bc5a8077"
      },
      "outputs": [
        {
          "data": {
            "text/html": [
              "<div>\n",
              "<style scoped>\n",
              "    .dataframe tbody tr th:only-of-type {\n",
              "        vertical-align: middle;\n",
              "    }\n",
              "\n",
              "    .dataframe tbody tr th {\n",
              "        vertical-align: top;\n",
              "    }\n",
              "\n",
              "    .dataframe thead th {\n",
              "        text-align: right;\n",
              "    }\n",
              "</style>\n",
              "<table border=\"1\" class=\"dataframe\">\n",
              "  <thead>\n",
              "    <tr style=\"text-align: right;\">\n",
              "      <th></th>\n",
              "      <th>y</th>\n",
              "    </tr>\n",
              "  </thead>\n",
              "  <tbody>\n",
              "    <tr>\n",
              "      <th>0</th>\n",
              "      <td>1</td>\n",
              "    </tr>\n",
              "    <tr>\n",
              "      <th>1</th>\n",
              "      <td>1</td>\n",
              "    </tr>\n",
              "    <tr>\n",
              "      <th>2</th>\n",
              "      <td>0</td>\n",
              "    </tr>\n",
              "    <tr>\n",
              "      <th>3</th>\n",
              "      <td>1</td>\n",
              "    </tr>\n",
              "    <tr>\n",
              "      <th>4</th>\n",
              "      <td>0</td>\n",
              "    </tr>\n",
              "  </tbody>\n",
              "</table>\n",
              "</div>"
            ],
            "text/plain": [
              "   y\n",
              "0  1\n",
              "1  1\n",
              "2  0\n",
              "3  1\n",
              "4  0"
            ]
          },
          "execution_count": 5,
          "metadata": {},
          "output_type": "execute_result"
        }
      ],
      "source": [
        "Y = pd.DataFrame(Y,columns=['y'])\n",
        "Y.head()"
      ]
    },
    {
      "cell_type": "markdown",
      "metadata": {
        "id": "ss5ZUJvv8SAR"
      },
      "source": [
        "## Train Test split"
      ]
    },
    {
      "cell_type": "code",
      "execution_count": null,
      "metadata": {
        "id": "bYfhhmvn8SAR"
      },
      "outputs": [],
      "source": [
        "from sklearn.model_selection import train_test_split\n",
        "xtrain, xtest, ytrain, ytest = train_test_split(X,Y,test_size=0.2, random_state=42)"
      ]
    },
    {
      "cell_type": "code",
      "execution_count": null,
      "metadata": {
        "id": "Pyh2Ni-Z8SAR",
        "outputId": "d1b65b2e-291b-4994-a0ad-a81c1b6f419a"
      },
      "outputs": [
        {
          "data": {
            "text/plain": [
              "(4800, 30)"
            ]
          },
          "execution_count": 7,
          "metadata": {},
          "output_type": "execute_result"
        }
      ],
      "source": [
        "xtrain.shape"
      ]
    },
    {
      "cell_type": "code",
      "execution_count": null,
      "metadata": {
        "id": "-GHhSKT48SAW",
        "outputId": "654cfb1c-c403-479a-fae3-e9d690708981"
      },
      "outputs": [
        {
          "data": {
            "text/plain": [
              "(1200, 30)"
            ]
          },
          "execution_count": 8,
          "metadata": {},
          "output_type": "execute_result"
        }
      ],
      "source": [
        "xtest.shape"
      ]
    },
    {
      "cell_type": "markdown",
      "metadata": {
        "id": "Ot9m2eiX8SAX"
      },
      "source": [
        "### Scaling the data"
      ]
    },
    {
      "cell_type": "code",
      "execution_count": null,
      "metadata": {
        "id": "7-FejZJO8SAX"
      },
      "outputs": [],
      "source": [
        "from sklearn.preprocessing import StandardScaler\n",
        "scaler = StandardScaler()\n",
        "xtrain = pd.DataFrame(scaler.fit_transform(xtrain),columns=xtrain.columns)\n",
        "xtest = pd.DataFrame(scaler.transform(xtest),columns=xtest.columns)"
      ]
    },
    {
      "cell_type": "markdown",
      "metadata": {
        "id": "2eGLzUeh8SAX"
      },
      "source": [
        "### Training the neural networks"
      ]
    },
    {
      "cell_type": "code",
      "execution_count": null,
      "metadata": {
        "id": "YX-lIcEC8SAY"
      },
      "outputs": [],
      "source": [
        "from keras.models import Sequential\n",
        "from keras.layers import Dense, Dropout, BatchNormalization"
      ]
    },
    {
      "cell_type": "code",
      "execution_count": null,
      "metadata": {
        "id": "jbR8MKvm8SAY"
      },
      "outputs": [],
      "source": [
        "def create_nn_model(optimizer):\n",
        "    # Initialize model\n",
        "    model = Sequential()\n",
        "\n",
        "    # Hidden Layer 1\n",
        "    model.add(Dense(64, activation='relu', input_dim=xtrain.shape[1]))\n",
        "\n",
        "    # Batch Normalization 1\n",
        "    model.add(BatchNormalization())\n",
        "\n",
        "    # Dropout Layer 1\n",
        "    model.add(Dropout(0.3))\n",
        "\n",
        "    # Hidden Layer 2\n",
        "    model.add(Dense(32, activation='relu'))\n",
        "\n",
        "    # Batch Normalization 2\n",
        "    model.add(BatchNormalization())\n",
        "\n",
        "    # Dropout 2\n",
        "    model.add(Dropout(0.2))\n",
        "\n",
        "    # Output Layer\n",
        "    model.add(Dense(1, activation='sigmoid'))\n",
        "\n",
        "    # Compile the model\n",
        "    model.compile(loss='binary_crossentropy',optimizer=optimizer, metrics=['accuracy'])\n",
        "\n",
        "    # Show Model summary\n",
        "    model.summary()\n",
        "\n",
        "    return model"
      ]
    },
    {
      "cell_type": "code",
      "execution_count": null,
      "metadata": {
        "id": "nNHMBwqb8SAY"
      },
      "outputs": [],
      "source": [
        "import matplotlib.pyplot as plt\n",
        "def plot_learning_curve(hist, opt):\n",
        "    plt.figure(figsize=(16,8))\n",
        "    plt.plot(hist.history['loss'], label='Training Loss')\n",
        "    plt.plot(hist.history['val_loss'], label='Validation Loss')\n",
        "    plt.xlabel('Epochs')\n",
        "    plt.ylabel('Binary Crossentropy Loss')\n",
        "    plt.title(f'Learning curve for Oprimizer : {opt}')\n",
        "    plt.legend()\n",
        "    plt.show()"
      ]
    },
    {
      "cell_type": "markdown",
      "metadata": {
        "id": "R7vvh8oz8SAY"
      },
      "source": [
        "### 1. SGD Optimizer"
      ]
    },
    {
      "cell_type": "code",
      "execution_count": null,
      "metadata": {
        "id": "vK9ruMv-8SAZ",
        "outputId": "4a700f22-9efa-4216-ac62-b36c858f9759"
      },
      "outputs": [
        {
          "name": "stdout",
          "output_type": "stream",
          "text": [
            "Model: \"sequential\"\n",
            "_________________________________________________________________\n",
            " Layer (type)                Output Shape              Param #   \n",
            "=================================================================\n",
            " dense (Dense)               (None, 64)                1984      \n",
            "                                                                 \n",
            " batch_normalization (Batch  (None, 64)                256       \n",
            " Normalization)                                                  \n",
            "                                                                 \n",
            " dropout (Dropout)           (None, 64)                0         \n",
            "                                                                 \n",
            " dense_1 (Dense)             (None, 32)                2080      \n",
            "                                                                 \n",
            " batch_normalization_1 (Bat  (None, 32)                128       \n",
            " chNormalization)                                                \n",
            "                                                                 \n",
            " dropout_1 (Dropout)         (None, 32)                0         \n",
            "                                                                 \n",
            " dense_2 (Dense)             (None, 1)                 33        \n",
            "                                                                 \n",
            "=================================================================\n",
            "Total params: 4481 (17.50 KB)\n",
            "Trainable params: 4289 (16.75 KB)\n",
            "Non-trainable params: 192 (768.00 Byte)\n",
            "_________________________________________________________________\n"
          ]
        }
      ],
      "source": [
        "model_sgd =  create_nn_model(optimizer='SGD')"
      ]
    },
    {
      "cell_type": "code",
      "execution_count": null,
      "metadata": {
        "id": "lh9hAs4A8SAZ",
        "outputId": "34ab7991-a60a-4904-9c72-61c04fffc39a"
      },
      "outputs": [
        {
          "name": "stdout",
          "output_type": "stream",
          "text": [
            "Epoch 1/50\n",
            "120/120 [==============================] - 1s 3ms/step - loss: 0.7414 - accuracy: 0.5951 - val_loss: 0.5323 - val_accuracy: 0.7302\n",
            "Epoch 2/50\n",
            "120/120 [==============================] - 0s 2ms/step - loss: 0.5660 - accuracy: 0.7039 - val_loss: 0.4620 - val_accuracy: 0.7896\n",
            "Epoch 3/50\n",
            "120/120 [==============================] - 0s 2ms/step - loss: 0.5249 - accuracy: 0.7333 - val_loss: 0.4241 - val_accuracy: 0.8083\n",
            "Epoch 4/50\n",
            "120/120 [==============================] - 0s 2ms/step - loss: 0.4917 - accuracy: 0.7547 - val_loss: 0.3984 - val_accuracy: 0.8271\n",
            "Epoch 5/50\n",
            "120/120 [==============================] - 0s 2ms/step - loss: 0.4771 - accuracy: 0.7664 - val_loss: 0.3807 - val_accuracy: 0.8406\n",
            "Epoch 6/50\n",
            "120/120 [==============================] - 0s 2ms/step - loss: 0.4475 - accuracy: 0.7872 - val_loss: 0.3673 - val_accuracy: 0.8458\n",
            "Epoch 7/50\n",
            "120/120 [==============================] - 0s 2ms/step - loss: 0.4368 - accuracy: 0.7990 - val_loss: 0.3547 - val_accuracy: 0.8542\n",
            "Epoch 8/50\n",
            "120/120 [==============================] - 0s 2ms/step - loss: 0.4184 - accuracy: 0.7990 - val_loss: 0.3456 - val_accuracy: 0.8562\n",
            "Epoch 9/50\n",
            "120/120 [==============================] - 0s 2ms/step - loss: 0.4141 - accuracy: 0.8078 - val_loss: 0.3357 - val_accuracy: 0.8615\n",
            "Epoch 10/50\n",
            "120/120 [==============================] - 0s 2ms/step - loss: 0.3922 - accuracy: 0.8216 - val_loss: 0.3278 - val_accuracy: 0.8573\n",
            "Epoch 11/50\n",
            "120/120 [==============================] - 0s 2ms/step - loss: 0.3939 - accuracy: 0.8156 - val_loss: 0.3203 - val_accuracy: 0.8625\n",
            "Epoch 12/50\n",
            "120/120 [==============================] - 0s 2ms/step - loss: 0.3725 - accuracy: 0.8271 - val_loss: 0.3124 - val_accuracy: 0.8656\n",
            "Epoch 13/50\n",
            "120/120 [==============================] - 0s 2ms/step - loss: 0.3750 - accuracy: 0.8341 - val_loss: 0.3053 - val_accuracy: 0.8750\n",
            "Epoch 14/50\n",
            "120/120 [==============================] - 0s 2ms/step - loss: 0.3609 - accuracy: 0.8401 - val_loss: 0.2991 - val_accuracy: 0.8771\n",
            "Epoch 15/50\n",
            "120/120 [==============================] - 0s 2ms/step - loss: 0.3596 - accuracy: 0.8424 - val_loss: 0.2921 - val_accuracy: 0.8833\n",
            "Epoch 16/50\n",
            "120/120 [==============================] - 0s 2ms/step - loss: 0.3343 - accuracy: 0.8484 - val_loss: 0.2846 - val_accuracy: 0.8865\n",
            "Epoch 17/50\n",
            "120/120 [==============================] - 0s 2ms/step - loss: 0.3303 - accuracy: 0.8581 - val_loss: 0.2797 - val_accuracy: 0.8906\n",
            "Epoch 18/50\n",
            "120/120 [==============================] - 0s 2ms/step - loss: 0.3262 - accuracy: 0.8609 - val_loss: 0.2745 - val_accuracy: 0.8969\n",
            "Epoch 19/50\n",
            "120/120 [==============================] - 0s 2ms/step - loss: 0.3243 - accuracy: 0.8620 - val_loss: 0.2716 - val_accuracy: 0.8958\n",
            "Epoch 20/50\n",
            "120/120 [==============================] - 0s 2ms/step - loss: 0.3200 - accuracy: 0.8628 - val_loss: 0.2673 - val_accuracy: 0.8990\n",
            "Epoch 21/50\n",
            "120/120 [==============================] - 0s 2ms/step - loss: 0.3039 - accuracy: 0.8661 - val_loss: 0.2644 - val_accuracy: 0.9000\n",
            "Epoch 22/50\n",
            "120/120 [==============================] - 0s 2ms/step - loss: 0.3161 - accuracy: 0.8672 - val_loss: 0.2614 - val_accuracy: 0.8969\n",
            "Epoch 23/50\n",
            "120/120 [==============================] - 0s 2ms/step - loss: 0.3132 - accuracy: 0.8641 - val_loss: 0.2584 - val_accuracy: 0.9000\n",
            "Epoch 24/50\n",
            "120/120 [==============================] - 0s 2ms/step - loss: 0.2896 - accuracy: 0.8768 - val_loss: 0.2555 - val_accuracy: 0.8990\n",
            "Epoch 25/50\n",
            "120/120 [==============================] - 0s 2ms/step - loss: 0.2848 - accuracy: 0.8763 - val_loss: 0.2533 - val_accuracy: 0.9010\n",
            "Epoch 26/50\n",
            "120/120 [==============================] - 0s 2ms/step - loss: 0.2854 - accuracy: 0.8836 - val_loss: 0.2501 - val_accuracy: 0.9021\n",
            "Epoch 27/50\n",
            "120/120 [==============================] - 0s 2ms/step - loss: 0.2771 - accuracy: 0.8820 - val_loss: 0.2482 - val_accuracy: 0.9042\n",
            "Epoch 28/50\n",
            "120/120 [==============================] - 0s 2ms/step - loss: 0.2767 - accuracy: 0.8810 - val_loss: 0.2465 - val_accuracy: 0.9062\n",
            "Epoch 29/50\n",
            "120/120 [==============================] - 0s 2ms/step - loss: 0.2795 - accuracy: 0.8844 - val_loss: 0.2450 - val_accuracy: 0.9073\n",
            "Epoch 30/50\n",
            "120/120 [==============================] - 0s 2ms/step - loss: 0.2679 - accuracy: 0.8870 - val_loss: 0.2428 - val_accuracy: 0.9052\n",
            "Epoch 31/50\n",
            "120/120 [==============================] - 0s 2ms/step - loss: 0.2809 - accuracy: 0.8841 - val_loss: 0.2411 - val_accuracy: 0.9062\n",
            "Epoch 32/50\n",
            "120/120 [==============================] - 0s 2ms/step - loss: 0.2838 - accuracy: 0.8813 - val_loss: 0.2397 - val_accuracy: 0.9052\n",
            "Epoch 33/50\n",
            "120/120 [==============================] - 0s 2ms/step - loss: 0.2776 - accuracy: 0.8815 - val_loss: 0.2375 - val_accuracy: 0.9083\n",
            "Epoch 34/50\n",
            "120/120 [==============================] - 0s 2ms/step - loss: 0.2565 - accuracy: 0.8987 - val_loss: 0.2356 - val_accuracy: 0.9094\n",
            "Epoch 35/50\n",
            "120/120 [==============================] - 0s 2ms/step - loss: 0.2609 - accuracy: 0.8948 - val_loss: 0.2352 - val_accuracy: 0.9083\n",
            "Epoch 36/50\n",
            "120/120 [==============================] - 0s 2ms/step - loss: 0.2602 - accuracy: 0.8930 - val_loss: 0.2328 - val_accuracy: 0.9083\n",
            "Epoch 37/50\n",
            "120/120 [==============================] - 0s 2ms/step - loss: 0.2642 - accuracy: 0.8878 - val_loss: 0.2312 - val_accuracy: 0.9073\n",
            "Epoch 38/50\n",
            "120/120 [==============================] - 0s 2ms/step - loss: 0.2618 - accuracy: 0.8919 - val_loss: 0.2302 - val_accuracy: 0.9104\n",
            "Epoch 39/50\n",
            "120/120 [==============================] - 0s 2ms/step - loss: 0.2661 - accuracy: 0.8888 - val_loss: 0.2301 - val_accuracy: 0.9073\n",
            "Epoch 40/50\n",
            "120/120 [==============================] - 0s 2ms/step - loss: 0.2524 - accuracy: 0.8953 - val_loss: 0.2277 - val_accuracy: 0.9094\n",
            "Epoch 41/50\n",
            "120/120 [==============================] - 0s 2ms/step - loss: 0.2470 - accuracy: 0.8924 - val_loss: 0.2282 - val_accuracy: 0.9062\n",
            "Epoch 42/50\n",
            "120/120 [==============================] - 0s 2ms/step - loss: 0.2461 - accuracy: 0.9013 - val_loss: 0.2261 - val_accuracy: 0.9146\n",
            "Epoch 43/50\n",
            "120/120 [==============================] - 0s 2ms/step - loss: 0.2537 - accuracy: 0.8995 - val_loss: 0.2254 - val_accuracy: 0.9104\n",
            "Epoch 44/50\n",
            "120/120 [==============================] - 0s 2ms/step - loss: 0.2498 - accuracy: 0.9010 - val_loss: 0.2243 - val_accuracy: 0.9135\n",
            "Epoch 45/50\n",
            "120/120 [==============================] - 0s 2ms/step - loss: 0.2399 - accuracy: 0.9049 - val_loss: 0.2227 - val_accuracy: 0.9146\n",
            "Epoch 46/50\n",
            "120/120 [==============================] - 0s 2ms/step - loss: 0.2352 - accuracy: 0.9055 - val_loss: 0.2231 - val_accuracy: 0.9156\n",
            "Epoch 47/50\n",
            "120/120 [==============================] - 0s 2ms/step - loss: 0.2302 - accuracy: 0.9109 - val_loss: 0.2214 - val_accuracy: 0.9156\n",
            "Epoch 48/50\n",
            "120/120 [==============================] - 0s 3ms/step - loss: 0.2376 - accuracy: 0.9065 - val_loss: 0.2213 - val_accuracy: 0.9156\n",
            "Epoch 49/50\n",
            "120/120 [==============================] - 0s 3ms/step - loss: 0.2336 - accuracy: 0.9036 - val_loss: 0.2202 - val_accuracy: 0.9146\n",
            "Epoch 50/50\n",
            "120/120 [==============================] - 0s 2ms/step - loss: 0.2291 - accuracy: 0.9091 - val_loss: 0.2178 - val_accuracy: 0.9156\n"
          ]
        }
      ],
      "source": [
        "hist_sgd = model_sgd.fit(xtrain, ytrain, validation_split=0.2, epochs=50)"
      ]
    },
    {
      "cell_type": "markdown",
      "metadata": {
        "id": "eua26s9d8SAZ"
      },
      "source": [
        "### SGD Learning Curve"
      ]
    },
    {
      "cell_type": "code",
      "execution_count": null,
      "metadata": {
        "id": "lBlIGiTx8SAZ",
        "outputId": "3279a657-4696-487d-c073-82cf088af983"
      },
      "outputs": [
        {
          "data": {
            "image/png": "[encoded data removed]",
            "text/plain": [
              "<Figure size 1600x800 with 1 Axes>"
            ]
          },
          "metadata": {},
          "output_type": "display_data"
        }
      ],
      "source": [
        "plot_learning_curve(hist=hist_sgd, opt='SGD')"
      ]
    },
    {
      "cell_type": "markdown",
      "metadata": {
        "id": "XDjNFwSe8SAa"
      },
      "source": [
        "### Evaluate SGD"
      ]
    },
    {
      "cell_type": "code",
      "execution_count": null,
      "metadata": {
        "id": "baMzluw58SAa",
        "outputId": "062e1828-32b0-4a6e-e43a-f3f4204bc19b"
      },
      "outputs": [
        {
          "name": "stdout",
          "output_type": "stream",
          "text": [
            "150/150 [==============================] - 0s 1ms/step - loss: 0.1614 - accuracy: 0.9444\n"
          ]
        }
      ],
      "source": [
        "tr_loss_sgd, tr_acc_sgd = model_sgd.evaluate(xtrain, ytrain)"
      ]
    },
    {
      "cell_type": "code",
      "execution_count": null,
      "metadata": {
        "id": "iXZplN1L8SAb",
        "outputId": "0782ba71-1f15-43ee-961d-b92a1cff83d0"
      },
      "outputs": [
        {
          "name": "stdout",
          "output_type": "stream",
          "text": [
            "38/38 [==============================] - 0s 1ms/step - loss: 0.1657 - accuracy: 0.9433\n"
          ]
        }
      ],
      "source": [
        "ts_loss_sgd, ts_acc_sgd = model_sgd.evaluate(xtest, ytest)"
      ]
    },
    {
      "cell_type": "markdown",
      "metadata": {
        "id": "yb3HpmLX8SAb"
      },
      "source": [
        "### SGD has 94.33% accuracy in testing"
      ]
    },
    {
      "cell_type": "markdown",
      "metadata": {
        "id": "zfNgR1QF8SAb"
      },
      "source": [
        "## 2. RMS Prop"
      ]
    },
    {
      "cell_type": "code",
      "execution_count": null,
      "metadata": {
        "id": "lNpSmCoX8SAc",
        "outputId": "6a9fcd85-a954-4ff9-dab7-cc50adf96a8f"
      },
      "outputs": [
        {
          "name": "stdout",
          "output_type": "stream",
          "text": [
            "Model: \"sequential_1\"\n",
            "_________________________________________________________________\n",
            " Layer (type)                Output Shape              Param #   \n",
            "=================================================================\n",
            " dense_3 (Dense)             (None, 64)                1984      \n",
            "                                                                 \n",
            " batch_normalization_2 (Bat  (None, 64)                256       \n",
            " chNormalization)                                                \n",
            "                                                                 \n",
            " dropout_2 (Dropout)         (None, 64)                0         \n",
            "                                                                 \n",
            " dense_4 (Dense)             (None, 32)                2080      \n",
            "                                                                 \n",
            " batch_normalization_3 (Bat  (None, 32)                128       \n",
            " chNormalization)                                                \n",
            "                                                                 \n",
            " dropout_3 (Dropout)         (None, 32)                0         \n",
            "                                                                 \n",
            " dense_5 (Dense)             (None, 1)                 33        \n",
            "                                                                 \n",
            "=================================================================\n",
            "Total params: 4481 (17.50 KB)\n",
            "Trainable params: 4289 (16.75 KB)\n",
            "Non-trainable params: 192 (768.00 Byte)\n",
            "_________________________________________________________________\n"
          ]
        }
      ],
      "source": [
        "model_rmsprop = create_nn_model(optimizer='RMSProp')"
      ]
    },
    {
      "cell_type": "code",
      "execution_count": null,
      "metadata": {
        "id": "TZ9HT6oh8SAc",
        "outputId": "64b7d1ba-9b2d-4751-b986-b0d081398aba"
      },
      "outputs": [
        {
          "name": "stdout",
          "output_type": "stream",
          "text": [
            "Epoch 1/50\n",
            "120/120 [==============================] - 2s 4ms/step - loss: 0.6414 - accuracy: 0.6654 - val_loss: 0.4547 - val_accuracy: 0.8260\n",
            "Epoch 2/50\n",
            "120/120 [==============================] - 0s 2ms/step - loss: 0.4586 - accuracy: 0.7760 - val_loss: 0.3448 - val_accuracy: 0.8615\n",
            "Epoch 3/50\n",
            "120/120 [==============================] - 0s 2ms/step - loss: 0.4054 - accuracy: 0.8120 - val_loss: 0.3013 - val_accuracy: 0.8813\n",
            "Epoch 4/50\n",
            "120/120 [==============================] - 0s 2ms/step - loss: 0.3657 - accuracy: 0.8344 - val_loss: 0.2681 - val_accuracy: 0.9021\n",
            "Epoch 5/50\n",
            "120/120 [==============================] - 0s 2ms/step - loss: 0.3210 - accuracy: 0.8622 - val_loss: 0.2460 - val_accuracy: 0.9135\n",
            "Epoch 6/50\n",
            "120/120 [==============================] - 0s 2ms/step - loss: 0.2988 - accuracy: 0.8734 - val_loss: 0.2294 - val_accuracy: 0.9208\n",
            "Epoch 7/50\n",
            "120/120 [==============================] - 0s 2ms/step - loss: 0.2841 - accuracy: 0.8807 - val_loss: 0.2184 - val_accuracy: 0.9260\n",
            "Epoch 8/50\n",
            "120/120 [==============================] - 0s 2ms/step - loss: 0.2621 - accuracy: 0.8969 - val_loss: 0.2076 - val_accuracy: 0.9344\n",
            "Epoch 9/50\n",
            "120/120 [==============================] - 0s 2ms/step - loss: 0.2541 - accuracy: 0.8977 - val_loss: 0.1985 - val_accuracy: 0.9333\n",
            "Epoch 10/50\n",
            "120/120 [==============================] - 0s 3ms/step - loss: 0.2331 - accuracy: 0.9096 - val_loss: 0.1945 - val_accuracy: 0.9354\n",
            "Epoch 11/50\n",
            "120/120 [==============================] - 0s 2ms/step - loss: 0.2268 - accuracy: 0.9099 - val_loss: 0.1866 - val_accuracy: 0.9406\n",
            "Epoch 12/50\n",
            "120/120 [==============================] - 0s 2ms/step - loss: 0.2160 - accuracy: 0.9177 - val_loss: 0.1819 - val_accuracy: 0.9417\n",
            "Epoch 13/50\n",
            "120/120 [==============================] - 0s 2ms/step - loss: 0.2147 - accuracy: 0.9180 - val_loss: 0.1808 - val_accuracy: 0.9427\n",
            "Epoch 14/50\n",
            "120/120 [==============================] - 0s 2ms/step - loss: 0.2043 - accuracy: 0.9206 - val_loss: 0.1762 - val_accuracy: 0.9448\n",
            "Epoch 15/50\n",
            "120/120 [==============================] - 0s 2ms/step - loss: 0.2040 - accuracy: 0.9255 - val_loss: 0.1715 - val_accuracy: 0.9479\n",
            "Epoch 16/50\n",
            "120/120 [==============================] - 0s 2ms/step - loss: 0.1857 - accuracy: 0.9318 - val_loss: 0.1706 - val_accuracy: 0.9458\n",
            "Epoch 17/50\n",
            "120/120 [==============================] - 0s 2ms/step - loss: 0.1849 - accuracy: 0.9297 - val_loss: 0.1667 - val_accuracy: 0.9479\n",
            "Epoch 18/50\n",
            "120/120 [==============================] - 0s 2ms/step - loss: 0.1776 - accuracy: 0.9328 - val_loss: 0.1653 - val_accuracy: 0.9417\n",
            "Epoch 19/50\n",
            "120/120 [==============================] - 0s 2ms/step - loss: 0.1768 - accuracy: 0.9328 - val_loss: 0.1600 - val_accuracy: 0.9479\n",
            "Epoch 20/50\n",
            "120/120 [==============================] - 0s 2ms/step - loss: 0.1700 - accuracy: 0.9393 - val_loss: 0.1566 - val_accuracy: 0.9479\n",
            "Epoch 21/50\n",
            "120/120 [==============================] - 0s 2ms/step - loss: 0.1673 - accuracy: 0.9378 - val_loss: 0.1535 - val_accuracy: 0.9521\n",
            "Epoch 22/50\n",
            "120/120 [==============================] - 0s 2ms/step - loss: 0.1735 - accuracy: 0.9328 - val_loss: 0.1566 - val_accuracy: 0.9510\n",
            "Epoch 23/50\n",
            "120/120 [==============================] - 0s 2ms/step - loss: 0.1514 - accuracy: 0.9378 - val_loss: 0.1572 - val_accuracy: 0.9479\n",
            "Epoch 24/50\n",
            "120/120 [==============================] - 0s 2ms/step - loss: 0.1608 - accuracy: 0.9398 - val_loss: 0.1515 - val_accuracy: 0.9469\n",
            "Epoch 25/50\n",
            "120/120 [==============================] - 0s 2ms/step - loss: 0.1562 - accuracy: 0.9411 - val_loss: 0.1519 - val_accuracy: 0.9458\n",
            "Epoch 26/50\n",
            "120/120 [==============================] - 0s 2ms/step - loss: 0.1491 - accuracy: 0.9466 - val_loss: 0.1522 - val_accuracy: 0.9479\n",
            "Epoch 27/50\n",
            "120/120 [==============================] - 0s 2ms/step - loss: 0.1545 - accuracy: 0.9417 - val_loss: 0.1563 - val_accuracy: 0.9448\n",
            "Epoch 28/50\n",
            "120/120 [==============================] - 0s 2ms/step - loss: 0.1400 - accuracy: 0.9484 - val_loss: 0.1481 - val_accuracy: 0.9479\n",
            "Epoch 29/50\n",
            "120/120 [==============================] - 0s 3ms/step - loss: 0.1551 - accuracy: 0.9411 - val_loss: 0.1534 - val_accuracy: 0.9458\n",
            "Epoch 30/50\n",
            "120/120 [==============================] - 0s 2ms/step - loss: 0.1468 - accuracy: 0.9453 - val_loss: 0.1451 - val_accuracy: 0.9542\n",
            "Epoch 31/50\n",
            "120/120 [==============================] - 0s 2ms/step - loss: 0.1461 - accuracy: 0.9458 - val_loss: 0.1472 - val_accuracy: 0.9521\n",
            "Epoch 32/50\n",
            "120/120 [==============================] - 0s 2ms/step - loss: 0.1330 - accuracy: 0.9536 - val_loss: 0.1494 - val_accuracy: 0.9552\n",
            "Epoch 33/50\n",
            "120/120 [==============================] - 0s 2ms/step - loss: 0.1415 - accuracy: 0.9505 - val_loss: 0.1510 - val_accuracy: 0.9521\n",
            "Epoch 34/50\n",
            "120/120 [==============================] - 0s 2ms/step - loss: 0.1387 - accuracy: 0.9492 - val_loss: 0.1484 - val_accuracy: 0.9521\n",
            "Epoch 35/50\n",
            "120/120 [==============================] - 0s 2ms/step - loss: 0.1490 - accuracy: 0.9419 - val_loss: 0.1449 - val_accuracy: 0.9531\n",
            "Epoch 36/50\n",
            "120/120 [==============================] - 0s 2ms/step - loss: 0.1305 - accuracy: 0.9557 - val_loss: 0.1425 - val_accuracy: 0.9542\n",
            "Epoch 37/50\n",
            "120/120 [==============================] - 0s 2ms/step - loss: 0.1318 - accuracy: 0.9505 - val_loss: 0.1415 - val_accuracy: 0.9573\n",
            "Epoch 38/50\n",
            "120/120 [==============================] - 0s 2ms/step - loss: 0.1311 - accuracy: 0.9521 - val_loss: 0.1380 - val_accuracy: 0.9573\n",
            "Epoch 39/50\n",
            "120/120 [==============================] - 0s 2ms/step - loss: 0.1304 - accuracy: 0.9508 - val_loss: 0.1335 - val_accuracy: 0.9583\n",
            "Epoch 40/50\n",
            "120/120 [==============================] - 0s 2ms/step - loss: 0.1339 - accuracy: 0.9508 - val_loss: 0.1398 - val_accuracy: 0.9563\n",
            "Epoch 41/50\n",
            "120/120 [==============================] - 0s 2ms/step - loss: 0.1313 - accuracy: 0.9552 - val_loss: 0.1322 - val_accuracy: 0.9573\n",
            "Epoch 42/50\n",
            "120/120 [==============================] - 0s 2ms/step - loss: 0.1201 - accuracy: 0.9560 - val_loss: 0.1363 - val_accuracy: 0.9563\n",
            "Epoch 43/50\n",
            "120/120 [==============================] - 0s 2ms/step - loss: 0.1332 - accuracy: 0.9497 - val_loss: 0.1371 - val_accuracy: 0.9594\n",
            "Epoch 44/50\n",
            "120/120 [==============================] - 0s 2ms/step - loss: 0.1197 - accuracy: 0.9568 - val_loss: 0.1334 - val_accuracy: 0.9635\n",
            "Epoch 45/50\n",
            "120/120 [==============================] - 0s 2ms/step - loss: 0.1186 - accuracy: 0.9578 - val_loss: 0.1354 - val_accuracy: 0.9625\n",
            "Epoch 46/50\n",
            "120/120 [==============================] - 0s 2ms/step - loss: 0.1199 - accuracy: 0.9583 - val_loss: 0.1368 - val_accuracy: 0.9635\n",
            "Epoch 47/50\n",
            "120/120 [==============================] - 0s 2ms/step - loss: 0.1068 - accuracy: 0.9628 - val_loss: 0.1314 - val_accuracy: 0.9646\n",
            "Epoch 48/50\n",
            "120/120 [==============================] - 0s 3ms/step - loss: 0.1137 - accuracy: 0.9589 - val_loss: 0.1317 - val_accuracy: 0.9615\n",
            "Epoch 49/50\n",
            "120/120 [==============================] - 0s 2ms/step - loss: 0.1142 - accuracy: 0.9609 - val_loss: 0.1297 - val_accuracy: 0.9656\n",
            "Epoch 50/50\n",
            "120/120 [==============================] - 0s 2ms/step - loss: 0.1082 - accuracy: 0.9630 - val_loss: 0.1355 - val_accuracy: 0.9604\n"
          ]
        }
      ],
      "source": [
        "hist_rmsprop = model_rmsprop.fit(xtrain, ytrain, validation_split=0.2, epochs=50)"
      ]
    },
    {
      "cell_type": "markdown",
      "metadata": {
        "id": "RB8vN1D88SAc"
      },
      "source": [
        "### RMSProp Learning Curve"
      ]
    },
    {
      "cell_type": "code",
      "execution_count": null,
      "metadata": {
        "id": "U4EBkT3q8SAc",
        "outputId": "4731a64d-8735-4f87-f5b4-ba6c2ba58d78"
      },
      "outputs": [
        {
          "data": {
            "image/png": "[encoded data removed]",
            "text/plain": [
              "<Figure size 1600x800 with 1 Axes>"
            ]
          },
          "metadata": {},
          "output_type": "display_data"
        }
      ],
      "source": [
        "plot_learning_curve(hist=hist_rmsprop, opt='RMSProp')"
      ]
    },
    {
      "cell_type": "markdown",
      "metadata": {
        "id": "q98FfQv58SAd"
      },
      "source": [
        "### Evaluate rmsprop"
      ]
    },
    {
      "cell_type": "code",
      "execution_count": null,
      "metadata": {
        "id": "oILq1CAH8SAd",
        "outputId": "8e189d50-6a02-4d60-852f-c2fdecd779ea"
      },
      "outputs": [
        {
          "name": "stdout",
          "output_type": "stream",
          "text": [
            "150/150 [==============================] - 0s 1ms/step - loss: 0.0604 - accuracy: 0.9842\n"
          ]
        }
      ],
      "source": [
        "tr_loss_rms, tr_acc_rms = model_rmsprop.evaluate(xtrain, ytrain)"
      ]
    },
    {
      "cell_type": "code",
      "execution_count": null,
      "metadata": {
        "id": "alxbEAkF8SAe",
        "outputId": "2b94e5de-5fff-470a-ae0c-e615b1a8e0c5"
      },
      "outputs": [
        {
          "name": "stdout",
          "output_type": "stream",
          "text": [
            "38/38 [==============================] - 0s 1ms/step - loss: 0.0753 - accuracy: 0.9775\n"
          ]
        }
      ],
      "source": [
        "ts_loss_rms, ts_acc_rms = model_rmsprop.evaluate(xtest, ytest)"
      ]
    },
    {
      "cell_type": "markdown",
      "metadata": {
        "id": "p_yYUrew8SAe"
      },
      "source": [
        "### RMS Prop has improved model testing accuracy further to 97.75% which is very good imporvement"
      ]
    },
    {
      "cell_type": "markdown",
      "metadata": {
        "id": "5yFm1rh98SAe"
      },
      "source": [
        "## 3. Adam Optimizer"
      ]
    },
    {
      "cell_type": "code",
      "execution_count": null,
      "metadata": {
        "id": "7SXz5nUc8SAe",
        "outputId": "d5df0bde-4057-4e54-a6cc-dc9cc37ad84b"
      },
      "outputs": [
        {
          "name": "stdout",
          "output_type": "stream",
          "text": [
            "Model: \"sequential_2\"\n",
            "_________________________________________________________________\n",
            " Layer (type)                Output Shape              Param #   \n",
            "=================================================================\n",
            " dense_6 (Dense)             (None, 64)                1984      \n",
            "                                                                 \n",
            " batch_normalization_4 (Bat  (None, 64)                256       \n",
            " chNormalization)                                                \n",
            "                                                                 \n",
            " dropout_4 (Dropout)         (None, 64)                0         \n",
            "                                                                 \n",
            " dense_7 (Dense)             (None, 32)                2080      \n",
            "                                                                 \n",
            " batch_normalization_5 (Bat  (None, 32)                128       \n",
            " chNormalization)                                                \n",
            "                                                                 \n",
            " dropout_5 (Dropout)         (None, 32)                0         \n",
            "                                                                 \n",
            " dense_8 (Dense)             (None, 1)                 33        \n",
            "                                                                 \n",
            "=================================================================\n",
            "Total params: 4481 (17.50 KB)\n",
            "Trainable params: 4289 (16.75 KB)\n",
            "Non-trainable params: 192 (768.00 Byte)\n",
            "_________________________________________________________________\n"
          ]
        }
      ],
      "source": [
        "model_adam = create_nn_model(optimizer='Adam')"
      ]
    },
    {
      "cell_type": "code",
      "execution_count": null,
      "metadata": {
        "id": "2SS8IH4W8SAf",
        "outputId": "778d2bbd-54f7-4b49-914b-79d9db04aef4"
      },
      "outputs": [
        {
          "name": "stdout",
          "output_type": "stream",
          "text": [
            "Epoch 1/50\n",
            "120/120 [==============================] - 2s 4ms/step - loss: 0.6366 - accuracy: 0.6755 - val_loss: 0.4588 - val_accuracy: 0.8104\n",
            "Epoch 2/50\n",
            "120/120 [==============================] - 0s 3ms/step - loss: 0.4792 - accuracy: 0.7732 - val_loss: 0.3606 - val_accuracy: 0.8635\n",
            "Epoch 3/50\n",
            "120/120 [==============================] - 0s 2ms/step - loss: 0.4127 - accuracy: 0.8174 - val_loss: 0.3080 - val_accuracy: 0.8875\n",
            "Epoch 4/50\n",
            "120/120 [==============================] - 0s 2ms/step - loss: 0.3647 - accuracy: 0.8435 - val_loss: 0.2740 - val_accuracy: 0.8979\n",
            "Epoch 5/50\n",
            "120/120 [==============================] - 0s 2ms/step - loss: 0.3213 - accuracy: 0.8641 - val_loss: 0.2564 - val_accuracy: 0.8958\n",
            "Epoch 6/50\n",
            "120/120 [==============================] - 0s 2ms/step - loss: 0.3143 - accuracy: 0.8724 - val_loss: 0.2477 - val_accuracy: 0.8979\n",
            "Epoch 7/50\n",
            "120/120 [==============================] - 0s 2ms/step - loss: 0.2986 - accuracy: 0.8758 - val_loss: 0.2390 - val_accuracy: 0.9021\n",
            "Epoch 8/50\n",
            "120/120 [==============================] - 0s 2ms/step - loss: 0.2688 - accuracy: 0.8898 - val_loss: 0.2295 - val_accuracy: 0.9021\n",
            "Epoch 9/50\n",
            "120/120 [==============================] - 0s 2ms/step - loss: 0.2653 - accuracy: 0.8914 - val_loss: 0.2230 - val_accuracy: 0.9031\n",
            "Epoch 10/50\n",
            "120/120 [==============================] - 0s 2ms/step - loss: 0.2597 - accuracy: 0.8951 - val_loss: 0.2133 - val_accuracy: 0.9177\n",
            "Epoch 11/50\n",
            "120/120 [==============================] - 0s 2ms/step - loss: 0.2486 - accuracy: 0.8992 - val_loss: 0.2077 - val_accuracy: 0.9219\n",
            "Epoch 12/50\n",
            "120/120 [==============================] - 0s 2ms/step - loss: 0.2376 - accuracy: 0.9083 - val_loss: 0.2091 - val_accuracy: 0.9198\n",
            "Epoch 13/50\n",
            "120/120 [==============================] - 0s 2ms/step - loss: 0.2301 - accuracy: 0.9128 - val_loss: 0.2032 - val_accuracy: 0.9271\n",
            "Epoch 14/50\n",
            "120/120 [==============================] - 0s 2ms/step - loss: 0.2151 - accuracy: 0.9169 - val_loss: 0.1969 - val_accuracy: 0.9312\n",
            "Epoch 15/50\n",
            "120/120 [==============================] - 0s 2ms/step - loss: 0.2129 - accuracy: 0.9169 - val_loss: 0.1943 - val_accuracy: 0.9333\n",
            "Epoch 16/50\n",
            "120/120 [==============================] - 0s 2ms/step - loss: 0.2129 - accuracy: 0.9172 - val_loss: 0.1930 - val_accuracy: 0.9323\n",
            "Epoch 17/50\n",
            "120/120 [==============================] - 0s 2ms/step - loss: 0.2047 - accuracy: 0.9190 - val_loss: 0.1872 - val_accuracy: 0.9323\n",
            "Epoch 18/50\n",
            "120/120 [==============================] - 0s 2ms/step - loss: 0.2010 - accuracy: 0.9198 - val_loss: 0.1837 - val_accuracy: 0.9385\n",
            "Epoch 19/50\n",
            "120/120 [==============================] - 0s 2ms/step - loss: 0.1875 - accuracy: 0.9253 - val_loss: 0.1840 - val_accuracy: 0.9406\n",
            "Epoch 20/50\n",
            "120/120 [==============================] - 0s 2ms/step - loss: 0.1848 - accuracy: 0.9289 - val_loss: 0.1841 - val_accuracy: 0.9344\n",
            "Epoch 21/50\n",
            "120/120 [==============================] - 0s 2ms/step - loss: 0.1859 - accuracy: 0.9302 - val_loss: 0.1765 - val_accuracy: 0.9375\n",
            "Epoch 22/50\n",
            "120/120 [==============================] - 0s 2ms/step - loss: 0.1730 - accuracy: 0.9362 - val_loss: 0.1733 - val_accuracy: 0.9375\n",
            "Epoch 23/50\n",
            "120/120 [==============================] - 0s 2ms/step - loss: 0.1820 - accuracy: 0.9292 - val_loss: 0.1737 - val_accuracy: 0.9427\n",
            "Epoch 24/50\n",
            "120/120 [==============================] - 0s 2ms/step - loss: 0.1785 - accuracy: 0.9318 - val_loss: 0.1731 - val_accuracy: 0.9427\n",
            "Epoch 25/50\n",
            "120/120 [==============================] - 0s 3ms/step - loss: 0.1674 - accuracy: 0.9398 - val_loss: 0.1726 - val_accuracy: 0.9427\n",
            "Epoch 26/50\n",
            "120/120 [==============================] - 0s 2ms/step - loss: 0.1720 - accuracy: 0.9346 - val_loss: 0.1651 - val_accuracy: 0.9438\n",
            "Epoch 27/50\n",
            "120/120 [==============================] - 0s 2ms/step - loss: 0.1662 - accuracy: 0.9344 - val_loss: 0.1665 - val_accuracy: 0.9479\n",
            "Epoch 28/50\n",
            "120/120 [==============================] - 0s 2ms/step - loss: 0.1614 - accuracy: 0.9411 - val_loss: 0.1594 - val_accuracy: 0.9458\n",
            "Epoch 29/50\n",
            "120/120 [==============================] - 0s 2ms/step - loss: 0.1612 - accuracy: 0.9352 - val_loss: 0.1572 - val_accuracy: 0.9469\n",
            "Epoch 30/50\n",
            "120/120 [==============================] - 0s 2ms/step - loss: 0.1595 - accuracy: 0.9422 - val_loss: 0.1579 - val_accuracy: 0.9500\n",
            "Epoch 31/50\n",
            "120/120 [==============================] - 0s 2ms/step - loss: 0.1668 - accuracy: 0.9391 - val_loss: 0.1525 - val_accuracy: 0.9469\n",
            "Epoch 32/50\n",
            "120/120 [==============================] - 0s 2ms/step - loss: 0.1399 - accuracy: 0.9484 - val_loss: 0.1528 - val_accuracy: 0.9490\n",
            "Epoch 33/50\n",
            "120/120 [==============================] - 0s 2ms/step - loss: 0.1579 - accuracy: 0.9424 - val_loss: 0.1517 - val_accuracy: 0.9469\n",
            "Epoch 34/50\n",
            "120/120 [==============================] - 0s 2ms/step - loss: 0.1419 - accuracy: 0.9477 - val_loss: 0.1511 - val_accuracy: 0.9469\n",
            "Epoch 35/50\n",
            "120/120 [==============================] - 0s 2ms/step - loss: 0.1345 - accuracy: 0.9521 - val_loss: 0.1518 - val_accuracy: 0.9500\n",
            "Epoch 36/50\n",
            "120/120 [==============================] - 0s 2ms/step - loss: 0.1381 - accuracy: 0.9453 - val_loss: 0.1480 - val_accuracy: 0.9510\n",
            "Epoch 37/50\n",
            "120/120 [==============================] - 0s 3ms/step - loss: 0.1461 - accuracy: 0.9445 - val_loss: 0.1540 - val_accuracy: 0.9531\n",
            "Epoch 38/50\n",
            "120/120 [==============================] - 0s 2ms/step - loss: 0.1391 - accuracy: 0.9495 - val_loss: 0.1485 - val_accuracy: 0.9510\n",
            "Epoch 39/50\n",
            "120/120 [==============================] - 0s 2ms/step - loss: 0.1417 - accuracy: 0.9518 - val_loss: 0.1504 - val_accuracy: 0.9531\n",
            "Epoch 40/50\n",
            "120/120 [==============================] - 0s 2ms/step - loss: 0.1390 - accuracy: 0.9477 - val_loss: 0.1501 - val_accuracy: 0.9510\n",
            "Epoch 41/50\n",
            "120/120 [==============================] - 0s 2ms/step - loss: 0.1420 - accuracy: 0.9469 - val_loss: 0.1471 - val_accuracy: 0.9490\n",
            "Epoch 42/50\n",
            "120/120 [==============================] - 0s 2ms/step - loss: 0.1284 - accuracy: 0.9531 - val_loss: 0.1411 - val_accuracy: 0.9531\n",
            "Epoch 43/50\n",
            "120/120 [==============================] - 0s 2ms/step - loss: 0.1260 - accuracy: 0.9544 - val_loss: 0.1381 - val_accuracy: 0.9583\n",
            "Epoch 44/50\n",
            "120/120 [==============================] - 0s 2ms/step - loss: 0.1256 - accuracy: 0.9526 - val_loss: 0.1387 - val_accuracy: 0.9563\n",
            "Epoch 45/50\n",
            "120/120 [==============================] - 0s 2ms/step - loss: 0.1297 - accuracy: 0.9510 - val_loss: 0.1419 - val_accuracy: 0.9552\n",
            "Epoch 46/50\n",
            "120/120 [==============================] - 0s 2ms/step - loss: 0.1255 - accuracy: 0.9547 - val_loss: 0.1434 - val_accuracy: 0.9563\n",
            "Epoch 47/50\n",
            "120/120 [==============================] - 0s 2ms/step - loss: 0.1248 - accuracy: 0.9570 - val_loss: 0.1399 - val_accuracy: 0.9542\n",
            "Epoch 48/50\n",
            "120/120 [==============================] - 0s 2ms/step - loss: 0.1135 - accuracy: 0.9604 - val_loss: 0.1393 - val_accuracy: 0.9583\n",
            "Epoch 49/50\n",
            "120/120 [==============================] - 0s 2ms/step - loss: 0.1251 - accuracy: 0.9510 - val_loss: 0.1405 - val_accuracy: 0.9552\n",
            "Epoch 50/50\n",
            "120/120 [==============================] - 0s 2ms/step - loss: 0.1233 - accuracy: 0.9513 - val_loss: 0.1412 - val_accuracy: 0.9563\n"
          ]
        }
      ],
      "source": [
        "hist_adam = model_adam.fit(xtrain, ytrain, validation_split=0.2, epochs=50)"
      ]
    },
    {
      "cell_type": "markdown",
      "metadata": {
        "id": "zWgmii8A8SAf"
      },
      "source": [
        "### Adam Learning Curve"
      ]
    },
    {
      "cell_type": "code",
      "execution_count": null,
      "metadata": {
        "id": "DvlvGHoF8SAf",
        "outputId": "a9e3284e-72b1-4fd0-850b-d5a912f4da6b"
      },
      "outputs": [
        {
          "data": {
            "image/png": "[encoded data removed]",
            "text/plain": [
              "<Figure size 1600x800 with 1 Axes>"
            ]
          },
          "metadata": {},
          "output_type": "display_data"
        }
      ],
      "source": [
        "plot_learning_curve(hist=hist_adam, opt='Adam')"
      ]
    },
    {
      "cell_type": "markdown",
      "metadata": {
        "id": "_dI8_G-W8SAg"
      },
      "source": [
        "### Evaluate Adam Optimizer"
      ]
    },
    {
      "cell_type": "code",
      "execution_count": null,
      "metadata": {
        "id": "gnsVEukW8SAg",
        "outputId": "f0676809-bf90-43ed-b352-323a771c15c2"
      },
      "outputs": [
        {
          "name": "stdout",
          "output_type": "stream",
          "text": [
            "150/150 [==============================] - 0s 1ms/step - loss: 0.0638 - accuracy: 0.9829\n"
          ]
        }
      ],
      "source": [
        "tr_loss_adam, tr_acc_adam = model_adam.evaluate(xtrain,ytrain)"
      ]
    },
    {
      "cell_type": "code",
      "execution_count": null,
      "metadata": {
        "id": "QXXW7S_H8SAh",
        "outputId": "d1e7b10d-a06a-473b-bc45-2876d8d30c7a"
      },
      "outputs": [
        {
          "name": "stdout",
          "output_type": "stream",
          "text": [
            "38/38 [==============================] - 0s 1ms/step - loss: 0.0855 - accuracy: 0.9725\n"
          ]
        }
      ],
      "source": [
        "ts_loss_adam, ts_acc_adam = model_adam.evaluate(xtest, ytest)"
      ]
    },
    {
      "cell_type": "markdown",
      "metadata": {
        "id": "OlEzXLDd8SAh"
      },
      "source": [
        "### Adam Optimizer has slightly lower accuracy compared to RMSProp which is 97.25% in testing"
      ]
    },
    {
      "cell_type": "markdown",
      "metadata": {
        "id": "mJw2MwEG8SAh"
      },
      "source": [
        "### Results summary"
      ]
    },
    {
      "cell_type": "code",
      "execution_count": null,
      "metadata": {
        "id": "xGbfxzMf8SAh"
      },
      "outputs": [],
      "source": [
        "eval_dct = {'Optimizer':['SGD','RMSProp','Adam'],\n",
        "            'Training Loss':[tr_loss_sgd, tr_loss_rms, tr_loss_adam],\n",
        "            'Testing Loss':[ts_loss_sgd, ts_loss_rms, ts_loss_adam],\n",
        "            'Training Accuracy':[tr_acc_sgd, tr_acc_rms, tr_acc_adam],\n",
        "            'Testing Accuracy':[ts_acc_sgd, ts_acc_rms, ts_acc_adam]}"
      ]
    },
    {
      "cell_type": "code",
      "execution_count": null,
      "metadata": {
        "id": "XBZQBpJX8SAi",
        "outputId": "5894a5c8-4bc3-4d7a-f192-07e94f3863a6"
      },
      "outputs": [
        {
          "data": {
            "text/html": [
              "<div>\n",
              "<style scoped>\n",
              "    .dataframe tbody tr th:only-of-type {\n",
              "        vertical-align: middle;\n",
              "    }\n",
              "\n",
              "    .dataframe tbody tr th {\n",
              "        vertical-align: top;\n",
              "    }\n",
              "\n",
              "    .dataframe thead th {\n",
              "        text-align: right;\n",
              "    }\n",
              "</style>\n",
              "<table border=\"1\" class=\"dataframe\">\n",
              "  <thead>\n",
              "    <tr style=\"text-align: right;\">\n",
              "      <th></th>\n",
              "      <th>Optimizer</th>\n",
              "      <th>Training Loss</th>\n",
              "      <th>Testing Loss</th>\n",
              "      <th>Training Accuracy</th>\n",
              "      <th>Testing Accuracy</th>\n",
              "    </tr>\n",
              "  </thead>\n",
              "  <tbody>\n",
              "    <tr>\n",
              "      <th>0</th>\n",
              "      <td>SGD</td>\n",
              "      <td>0.161437</td>\n",
              "      <td>0.165703</td>\n",
              "      <td>0.944375</td>\n",
              "      <td>0.943333</td>\n",
              "    </tr>\n",
              "    <tr>\n",
              "      <th>1</th>\n",
              "      <td>RMSProp</td>\n",
              "      <td>0.060420</td>\n",
              "      <td>0.075347</td>\n",
              "      <td>0.984167</td>\n",
              "      <td>0.977500</td>\n",
              "    </tr>\n",
              "    <tr>\n",
              "      <th>2</th>\n",
              "      <td>Adam</td>\n",
              "      <td>0.063844</td>\n",
              "      <td>0.085452</td>\n",
              "      <td>0.982917</td>\n",
              "      <td>0.972500</td>\n",
              "    </tr>\n",
              "  </tbody>\n",
              "</table>\n",
              "</div>"
            ],
            "text/plain": [
              "  Optimizer  Training Loss  Testing Loss  Training Accuracy  Testing Accuracy\n",
              "0       SGD       0.161437      0.165703           0.944375          0.943333\n",
              "1   RMSProp       0.060420      0.075347           0.984167          0.977500\n",
              "2      Adam       0.063844      0.085452           0.982917          0.972500"
            ]
          },
          "execution_count": 29,
          "metadata": {},
          "output_type": "execute_result"
        }
      ],
      "source": [
        "eval_df = pd.DataFrame(eval_dct)\n",
        "eval_df"
      ]
    },
    {
      "cell_type": "code",
      "execution_count": null,
      "metadata": {
        "id": "ZbTwbHZ48SAi",
        "outputId": "74efe2e2-0e15-4967-e5ac-c7fb8978f08d"
      },
      "outputs": [
        {
          "data": {
            "text/html": [
              "<div>\n",
              "<style scoped>\n",
              "    .dataframe tbody tr th:only-of-type {\n",
              "        vertical-align: middle;\n",
              "    }\n",
              "\n",
              "    .dataframe tbody tr th {\n",
              "        vertical-align: top;\n",
              "    }\n",
              "\n",
              "    .dataframe thead th {\n",
              "        text-align: right;\n",
              "    }\n",
              "</style>\n",
              "<table border=\"1\" class=\"dataframe\">\n",
              "  <thead>\n",
              "    <tr style=\"text-align: right;\">\n",
              "      <th></th>\n",
              "      <th>Optimizer</th>\n",
              "      <th>Training Loss</th>\n",
              "      <th>Testing Loss</th>\n",
              "      <th>Training Accuracy</th>\n",
              "      <th>Testing Accuracy</th>\n",
              "    </tr>\n",
              "  </thead>\n",
              "  <tbody>\n",
              "    <tr>\n",
              "      <th>1</th>\n",
              "      <td>RMSProp</td>\n",
              "      <td>0.060420</td>\n",
              "      <td>0.075347</td>\n",
              "      <td>0.984167</td>\n",
              "      <td>0.977500</td>\n",
              "    </tr>\n",
              "    <tr>\n",
              "      <th>2</th>\n",
              "      <td>Adam</td>\n",
              "      <td>0.063844</td>\n",
              "      <td>0.085452</td>\n",
              "      <td>0.982917</td>\n",
              "      <td>0.972500</td>\n",
              "    </tr>\n",
              "    <tr>\n",
              "      <th>0</th>\n",
              "      <td>SGD</td>\n",
              "      <td>0.161437</td>\n",
              "      <td>0.165703</td>\n",
              "      <td>0.944375</td>\n",
              "      <td>0.943333</td>\n",
              "    </tr>\n",
              "  </tbody>\n",
              "</table>\n",
              "</div>"
            ],
            "text/plain": [
              "  Optimizer  Training Loss  Testing Loss  Training Accuracy  Testing Accuracy\n",
              "1   RMSProp       0.060420      0.075347           0.984167          0.977500\n",
              "2      Adam       0.063844      0.085452           0.982917          0.972500\n",
              "0       SGD       0.161437      0.165703           0.944375          0.943333"
            ]
          },
          "execution_count": 30,
          "metadata": {},
          "output_type": "execute_result"
        }
      ],
      "source": [
        "eval_df.sort_values(by='Testing Accuracy', ascending=False)"
      ]
    },
    {
      "cell_type": "markdown",
      "metadata": {
        "id": "-acdqU1o8SAj"
      },
      "source": [
        "### For Above dataset RMSProp Optimizer has best testing accuracy of 97.75%\n",
        "---\n",
        "---"
      ]
    },
    {
      "cell_type": "markdown",
      "metadata": {
        "id": "6qrWoFX98SAj"
      },
      "source": [
        "## Q9. Discuss consideration and tradeoffs when choosing appropriate optimizer for a given neural network architecture and task. Consider factors such as convergence speed, stability and genralization performance\n",
        "---"
      ]
    },
    {
      "cell_type": "markdown",
      "metadata": {
        "id": "IaG1U49_8SAk"
      },
      "source": [
        "## Answer :"
      ]
    },
    {
      "cell_type": "markdown",
      "metadata": {
        "id": "wy_YQxN78SAk"
      },
      "source": [
        "### Choosing an appropriate optimizer for a neural network architecture and task is a critical decision that can significantly impact the model's convergence speed, stability, and generalization performance. Different optimization algorithms have distinct characteristics, and the choice should be based on various considerations and tradeoffs. Here are some key factors to consider:\n",
        "\n",
        "1. `Convergence Speed`:\n",
        "- **Adaptive Learning Rates:** Optimizers like Adam, RMSprop, and Adagrad adapt the learning rates for each parameter, leading to faster convergence in many cases. These algorithms often converge faster than traditional optimization methods like Gradient Descent and Stochastic Gradient Descent (SGD), which use a fixed learning rate for all parameters.\n",
        "\n",
        "- **Momentum:** Momentum-based optimizers (e.g., Momentum, Nesterov Accelerated Gradient, and Adam) add momentum to the updates, which helps the optimization process to accelerate in the right direction and overcome flat regions more efficiently. This can lead to faster convergence, especially in the presence of sparse gradients.\n",
        "\n",
        "2. `Stability`:\n",
        "- **Batch Size:** The choice of batch size can affect the stability of optimization. Larger batch sizes tend to provide smoother updates and lead to more stable convergence, but they may require more memory. Smaller batch sizes, like in SGD, can introduce more noise, leading to some instability during training, but they may escape local minima and lead to better generalization.\n",
        "\n",
        "- **Learning Rate Schedule:** Using a learning rate schedule can enhance the stability of the optimization process. Starting with a larger learning rate and gradually decreasing it as training progresses can help fine-tune the model towards the end of training.\n",
        "\n",
        "- **Noise-Tolerance:** Adaptive algorithms like Adam and RMSprop tend to be more noise-tolerant due to their ability to adapt the learning rates. This makes them more stable in handling noisy or sparse gradients compared to traditional methods like SGD.\n",
        "\n",
        "3. `Generalization Performance`:\n",
        "- **Overfitting:** Regularization techniques like Dropout and weight decay, along with the choice of optimizer, can impact the model's tendency to overfit. Optimizers that provide better generalization performance help the model generalize well to unseen data and avoid overfitting.\n",
        "\n",
        "- **Early Stopping:** Monitoring the validation loss and stopping the training process early can help prevent overfitting. The choice of optimizer can influence the optimal stopping point.\n",
        "\n",
        "4. `Complexity and Resource Constraints`:\n",
        "- **Computational Resources:** Optimizers like Adam and RMSprop often require more computation and memory compared to simpler methods like SGD, especially for large-scale models.\n",
        "\n",
        "- **Hyperparameter Sensitivity:** Some optimizers, like Adam, have additional hyperparameters (e.g., `beta1` and `beta2`) that need to be tuned. Poor hyperparameter choices can affect the optimization process and generalization performance.\n",
        "\n",
        "5. `Problem Characteristics`:\n",
        "- **Sparse Gradients:** For problems with sparse gradients, optimizers like Adam and RMSprop are generally more suitable as they adaptively adjust the learning rates for each parameter.\n",
        "\n",
        "- **Non-Convex Loss Landscape:** Complex non-convex loss landscapes, as often found in deep learning, may benefit from adaptive learning rate methods like Adam, which can help navigate through narrow valleys and escape shallow local minima.\n",
        "\n",
        "### In summary, the choice of optimizer should consider factors such as convergence speed, stability, and generalization performance, as well as the complexity of the neural network, the problem characteristics, and the available computational resources. It is essential to experiment with different optimizers, learning rates, and hyperparameters to find the best combination that suits the specific architecture and task at hand."
      ]
    }
  ],
  "metadata": {
    "kernelspec": {
      "display_name": "venv",
      "language": "python",
      "name": "python3"
    },
    "language_info": {
      "codemirror_mode": {
        "name": "ipython",
        "version": 3
      },
      "file_extension": ".py",
      "mimetype": "text/x-python",
      "name": "python",
      "nbconvert_exporter": "python",
      "pygments_lexer": "ipython3",
      "version": "3.10.7"
    },
    "orig_nbformat": 4,
    "colab": {
      "provenance": []
    }
  },
  "nbformat": 4,
  "nbformat_minor": 0
}
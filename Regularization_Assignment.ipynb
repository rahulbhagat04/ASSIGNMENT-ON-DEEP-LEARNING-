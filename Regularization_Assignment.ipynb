{
  "cells": [
    {
      "cell_type": "markdown",
      "metadata": {
        "id": "ShMYlYCo8Td6"
      },
      "source": [
        "# <p style=\"padding:10px;background-color:#87CEEB ;margin:10;color:#000000;font-family:newtimeroman;font-size:100%;text-align:center;border-radius: 10px 10px ;overflow:hidden;font-weight:50\">Part 1: Regularization</p>"
      ]
    },
    {
      "cell_type": "markdown",
      "metadata": {
        "id": "xY5cZ4Fv8Td6"
      },
      "source": [
        "## Q1. What is regularization in the context of deep learning? Why it is important?\n",
        "---"
      ]
    },
    {
      "cell_type": "markdown",
      "metadata": {
        "id": "Nqt35itl8Td7"
      },
      "source": [
        "## Answer:"
      ]
    },
    {
      "cell_type": "markdown",
      "metadata": {
        "id": "auxN4PKb8Td7"
      },
      "source": [
        "### In the context of deep learning, regularization refers to a set of techniques used to prevent a neural network from overfitting to the training data. Overfitting occurs when a model learns to perform well on the training data but fails to generalize its performance to new, unseen data. Regularization methods aim to strike a balance between fitting the training data closely while avoiding the pitfalls of overfitting.\n",
        "\n",
        "### Regularization is important in deep learning for several reasons:\n",
        "\n",
        "1. `Preventing Overfitting`: Deep neural networks have a large number of parameters, making them prone to memorizing noise in the training data. Regularization techniques introduce constraints on these parameters, reducing the model's complexity and thus its ability to fit noise.\n",
        "\n",
        "2. `Improving Generalization`: By reducing overfitting, regularization techniques help neural networks generalize better to new, unseen data. This is crucial for the model to perform well in real-world scenarios.\n",
        "\n",
        "3. `Handling Limited Data`: In cases where you have limited training data, regularization can be particularly helpful. It aids in learning a more robust model even with a smaller dataset.\n",
        "\n",
        "4. `Reducing Variance`: Regularization methods reduce the variance in the model's predictions, making the model's output more stable and consistent across different input samples.\n",
        "\n",
        "### Common regularization techniques in deep learning include:\n",
        "\n",
        "1. `L1 and L2 Regularization`: These techniques add a penalty term to the loss function based on the magnitudes of the model's parameters. L1 regularization encourages some parameters to become exactly zero, effectively performing feature selection, while L2 regularization prefers smaller parameter values.\n",
        "\n",
        "2. `Dropout`: Dropout randomly sets a fraction of the neurons' outputs to zero during each training iteration. This prevents specific neurons from relying too heavily on others and promotes more robust feature learning.\n",
        "\n",
        "3. `Data Augmentation`: By applying random transformations to the training data, such as rotation, cropping, or flipping, data augmentation increases the diversity of the training data, helping the model generalize better.\n",
        "\n",
        "4. `Early Stopping`: Early stopping involves monitoring the model's performance on a validation set and stopping the training process when the performance starts to degrade. This prevents the model from continuing to learn noise from the training data.\n",
        "\n",
        "5. `Batch Normalization`: Batch normalization normalizes the activations of each layer within a mini-batch during training. This helps stabilize and speed up training, acting as a form of regularization.\n",
        "\n",
        "6. `Weight Decay`: Weight decay, often used in combination with L2 regularization, reduces the magnitudes of the model's weights during training, discouraging overly large weights.\n",
        "\n",
        "### Each of these techniques introduces different forms of regularization, and their effectiveness may vary depending on the specific problem and dataset. The choice of regularization method should be based on empirical experimentation and an understanding of the underlying factors contributing to overfitting in the model.\n",
        "---\n",
        "---"
      ]
    },
    {
      "cell_type": "markdown",
      "metadata": {
        "id": "XafOOCI88Td8"
      },
      "source": [
        "## Q2. Explain Bias Variance Tradeoff and how regularization helps in addressing this tradeoff\n",
        "---"
      ]
    },
    {
      "cell_type": "markdown",
      "metadata": {
        "id": "-QbYKieR8Td9"
      },
      "source": [
        "## Answer :"
      ]
    },
    {
      "cell_type": "markdown",
      "metadata": {
        "id": "GysLyTkz8Td-"
      },
      "source": [
        "### The bias-variance tradeoff is a fundamental concept in machine learning and statistical modeling that illustrates the relationship between the model's ability to fit the training data (bias) and its ability to generalize to new, unseen data (variance). Balancing bias and variance is essential for creating models that perform well on both the training data and new data points.\n",
        "\n",
        "`Bias` refers to the error introduced by approximating a real-world problem, which may be complex, by a simplified model. A high bias model tends to make strong assumptions about the data, leading it to oversimplify the underlying patterns. This can result in the model consistently underperforming on both the training data and new data.\n",
        "\n",
        "`Variance` is the model's sensitivity to small fluctuations or noise in the training data. A high variance model captures the noise in the training data and fits it too closely, which can lead to overfitting. Overfitting occurs when the model performs well on the training data but poorly on new data due to the noise being memorized.\n",
        "\n",
        "### The bias-variance tradeoff can be visualized as follows:\n",
        "\n",
        "- `High Bias, Low Variance`: A model with high bias and low variance tends to produce similar predictions across different datasets and is unlikely to overfit. However, it may fail to capture the underlying complexities of the data.\n",
        "\n",
        "- `Low Bias, High Variance`: A model with low bias and high variance can capture complex patterns in the data, but it's prone to overfitting and may not generalize well to new data.\n",
        "\n",
        "Regularization plays a crucial role in addressing the bias-variance tradeoff by introducing constraints on the model's complexity. Here's how it helps:\n",
        "\n",
        "1. `Bias Reduction`: Regularization techniques like L1 and L2 regularization and weight decay introduce penalties on the model's parameters. This encourages the model to simplify and reduces the risk of underfitting by controlling the model's capacity to fit the training data closely. Regularization helps strike a balance between fitting the data and capturing underlying patterns.\n",
        "\n",
        "2. `Variance Reduction`: Regularization methods reduce the magnitude of the model's parameters, preventing them from becoming too large and fitting noise in the training data. By constraining the parameter space, regularization helps to avoid overfitting and reduces the model's sensitivity to variations in the data.\n",
        "\n",
        "3. `Promoting Simplicity`: Regularization discourages the model from relying heavily on any single feature or parameter, promoting a more distributed and robust representation of the data. This leads to better generalization and reduces the chances of overfitting.\n",
        "\n",
        "4. `Stabilizing Learning`: Techniques like dropout and batch normalization, often considered forms of regularization, introduce noise or normalization during training, which helps the model converge to a more stable and generalizable solution.\n",
        "\n",
        "### In summary, regularization is a powerful tool for managing the bias-variance tradeoff. It allows you to control the complexity of the model, prevent overfitting, and improve its generalization to new, unseen data by striking a balance between capturing underlying patterns and avoiding noise in the training data.\n",
        "---\n",
        "---"
      ]
    },
    {
      "cell_type": "markdown",
      "metadata": {
        "id": "t56ekYs28Td-"
      },
      "source": [
        "## Q3. Describe concept of L1 and L2 regularization. How do they differ in terms of penalty calculation and their effects on model?\n",
        "---"
      ]
    },
    {
      "cell_type": "markdown",
      "metadata": {
        "id": "AUXVpZIE8Td_"
      },
      "source": [
        "## Answer:"
      ]
    },
    {
      "cell_type": "markdown",
      "metadata": {
        "id": "3qN2Y2mo8Td_"
      },
      "source": [
        "### L1 (Lasso) and L2 (Ridge) regularization are two common techniques used to prevent overfitting in machine learning models by adding penalty terms to the loss function based on the magnitudes of the model's parameters. These regularization techniques encourage the model to have smaller parameter values, which helps in controlling the model's complexity and improving generalization.\n",
        "\n",
        "### L1 Regularization (Lasso):\n",
        "\n",
        "### In L1 regularization, the penalty term added to the loss function is proportional to the absolute values of the model's parameters. Mathematically, the L1 regularization term for a model with parameters θ is given by:\n",
        "\n",
        "### L1 regularization term = λ * Σ|θ|\n",
        "\n",
        "### Here, λ (lambda) is the regularization strength hyperparameter that determines how much the regularization term influences the overall loss. Larger values of λ lead to stronger regularization.\n",
        "\n",
        "### Effect on the model:\n",
        "\n",
        "- L1 regularization encourages some of the model's parameters to become exactly zero. This results in a form of feature selection, as certain features become irrelevant to the model's predictions.\n",
        "- The sparsity introduced by L1 regularization can lead to simpler and more interpretable models, as only a subset of features is given importance.\n",
        "- L1 regularization can be particularly useful when dealing with high-dimensional data or when you suspect that many features are not informative.\n",
        "\n",
        "### L2 Regularization (Ridge):\n",
        "\n",
        "### In L2 regularization, the penalty term added to the loss function is proportional to the squared magnitudes of the model's parameters. Mathematically, the L2 regularization term for a model with parameters θ is given by:\n",
        "\n",
        "### L2 regularization term = λ * Σθ^2\n",
        "\n",
        "### Again, λ is the regularization strength hyperparameter.\n",
        "\n",
        "### Effect on the model:\n",
        "\n",
        "- L2 regularization discourages the model's parameters from becoming too large, effectively limiting their influence on the predictions.\n",
        "- Unlike L1 regularization, L2 regularization rarely results in exactly zero parameters. Instead, it tends to shrink all parameter values towards zero.\n",
        "- L2 regularization can help in cases where you want to prevent any single feature from dominating the model's predictions, while still maintaining most features' contributions.\n",
        "\n",
        "### Differences between L1 and L2 regularization:\n",
        "\n",
        "1. `Penalty Calculation`: L1 regularization uses the absolute values of the parameters, while L2 regularization uses the squared values. This leads to differences in the resulting regularization terms.\n",
        "\n",
        "2. `Sparsity vs. Shrinkage`: L1 regularization encourages sparsity by driving some parameters to exactly zero, while L2 regularization encourages parameter shrinkage towards zero without necessarily making them exactly zero.\n",
        "\n",
        "3. `Feature Selection`: L1 regularization can automatically perform feature selection by effectively excluding certain features from the model. L2 regularization tends to keep all features but reduces their influence.\n",
        "\n",
        "4. `Effect on Complexity`: L1 regularization generally results in a simpler model with fewer nonzero parameters. L2 regularization tends to create smoother and more balanced models.\n",
        "\n",
        "### In summary, both L1 and L2 regularization techniques are effective in preventing overfitting by controlling the complexity of the model. The choice between them depends on the problem's characteristics, the desired trade-off between feature selection and parameter shrinkage, and the insights you have about the data and features."
      ]
    },
    {
      "cell_type": "markdown",
      "metadata": {
        "id": "6mm6gEF48Td_"
      },
      "source": [
        "---\n",
        "---"
      ]
    },
    {
      "cell_type": "markdown",
      "metadata": {
        "id": "FRrO15608Td_"
      },
      "source": [
        "## Q4. Discuss the role of regularization in preventing overfitting and improving the generalization of deep learning models\n",
        "---"
      ]
    },
    {
      "cell_type": "markdown",
      "metadata": {
        "id": "pMpRyv3X8TeA"
      },
      "source": [
        "## Answer :"
      ]
    },
    {
      "cell_type": "markdown",
      "metadata": {
        "id": "HPLq9sbm8TeA"
      },
      "source": [
        "### Regularization plays a crucial role in preventing overfitting and improving the generalization of deep learning models. Deep neural networks are highly flexible and capable of fitting complex relationships in the training data, but this very flexibility can make them prone to overfitting, where the model memorizes noise in the training data rather than learning meaningful patterns. Regularization techniques help mitigate this issue by introducing constraints on the model's parameters and learning process.\n",
        "\n",
        "### Here's how regularization contributes to preventing overfitting and enhancing generalization in deep learning models:\n",
        "\n",
        "1. `Parameter Control`: Regularization methods add penalty terms to the loss function based on the model's parameters. This discourages the parameters from taking very large values, effectively limiting the complexity of the model. Overly complex models are more likely to overfit, as they can fit noise and fluctuations in the training data.\n",
        "\n",
        "2. `Noise Reduction`: Neural networks can capture noise in the training data due to their high capacity to learn intricate details. Regularization techniques reduce the model's sensitivity to noise by dampening the impact of small fluctuations in the training data.\n",
        "\n",
        "3. `Feature Selection`: Some regularization techniques, like L1 regularization, can drive certain model parameters to exactly zero. This leads to automatic feature selection, where less relevant features are effectively ignored by the model. Ignoring irrelevant features helps the model focus on the most important patterns in the data.\n",
        "\n",
        "4. `Generalization to Unseen Data`: By controlling the model's complexity and discouraging overfitting, regularization techniques ensure that the model's learned representations are more likely to generalize to new, unseen data. A model that generalizes well is better equipped to make accurate predictions on real-world examples.\n",
        "\n",
        "5. `Robustness to Limited Data`: In cases where you have limited training data, regularization can be especially beneficial. It helps the model avoid fitting the noise present in small datasets, leading to a more reliable performance on unseen data.\n",
        "\n",
        "6. `Consistency Across Batches`: Techniques like dropout and batch normalization, considered forms of regularization, introduce stochasticity during training. This prevents the model from becoming too reliant on specific neurons or activations, leading to a more consistent and robust behavior across different batches of data.\n",
        "\n",
        "7. `Stable Learning`: Regularization methods often lead to smoother loss landscapes, which can help the optimization process during training. This stability aids the model in converging to better solutions without getting stuck in local minima.\n",
        "\n",
        "8. `Interpretable Models`: Regularization, particularly techniques like L1 regularization, can lead to sparser and more interpretable models by promoting the selection of important features. This can help in understanding the model's decision-making process.\n",
        "\n",
        "### In summary, regularization acts as a safeguard against overfitting by constraining the model's complexity and encouraging the learning of more generalized patterns in the data. By preventing the model from fitting noise and irrelevant details, regularization enhances the model's ability to make accurate predictions on new, unseen data, making it an indispensable tool in improving the generalization of deep learning models.\n",
        "---\n",
        "---"
      ]
    },
    {
      "cell_type": "markdown",
      "metadata": {
        "id": "cZF6K4iO8TeA"
      },
      "source": [
        "# <p style=\"padding:10px;background-color:#87CEEB ;margin:10;color:#000000;font-family:newtimeroman;font-size:100%;text-align:center;border-radius: 10px 10px ;overflow:hidden;font-weight:50\">Part 2 : Regularization Techniques</p>"
      ]
    },
    {
      "cell_type": "markdown",
      "metadata": {
        "id": "m3SRqqZ78TeA"
      },
      "source": [
        "## Q5. Explain Dropout Regularization and how it works to reduce overfitting. Discuss the impact on model training and inference.\n",
        "---"
      ]
    },
    {
      "cell_type": "markdown",
      "metadata": {
        "id": "IgS6GaBy8TeA"
      },
      "source": [
        "## Answer :"
      ]
    },
    {
      "cell_type": "markdown",
      "metadata": {
        "id": "3qbF0-5G8TeB"
      },
      "source": [
        "### Dropout regularization is a technique used to reduce overfitting in neural networks by randomly deactivating (dropping out) a fraction of neurons during each training iteration. The idea behind dropout is to prevent specific neurons from relying too heavily on others and encourage the network to learn more robust and generalized features. Dropout was introduced by Srivastava et al. in their 2014 paper \"Dropout: A Simple Way to Prevent Neural Networks from Overfitting.\"\n",
        "\n",
        "### Here's how dropout regularization works and its impact on model training and inference:\n",
        "\n",
        "### Dropout During Training:\n",
        "\n",
        "1. `Random Deactivation`: During each training iteration, dropout randomly deactivates a fraction (dropout rate) of neurons in a layer. This means that these deactivated neurons do not contribute to forward or backward propagation during that iteration.\n",
        "\n",
        "2. `Stochasticity`: The random deactivation of neurons introduces stochasticity or randomness into the training process. This helps in preventing neurons from co-adapting too much to specific features and encourages the network to learn more robust representations.\n",
        "\n",
        "3. `Scaling During Inference`: During inference (when making predictions), the dropout is usually turned off, and all neurons are active. However, to ensure that the expected output remains consistent between training and inference, the weights of the active neurons are scaled by the inverse of the dropout rate. This scaling ensures that the expected output remains the same, accounting for the dropout during training.\n",
        "\n",
        "### Impact on Model Training:\n",
        "\n",
        "1. `Regularization`: Dropout acts as a form of regularization by preventing neurons from becoming overly specialized to specific patterns in the training data. This encourages the network to learn more generalized features and reduces the risk of overfitting.\n",
        "\n",
        "2. `Ensemble Effect`: Dropout can be interpreted as training multiple sub-networks with different subsets of neurons activated for each iteration. This ensemble effect helps the model to learn diverse representations and improve generalization.\n",
        "\n",
        "3. `Reduced Co-Adaptation`: The random deactivation of neurons disrupts co-adaptation, where certain neurons rely heavily on others. This reduces the chances of one neuron compensating for another's weaknesses and leads to more independent learning.\n",
        "\n",
        "### Impact on Model Inference:\n",
        "\n",
        "During inference, when the model is making predictions:\n",
        "\n",
        "1. `No Dropout`: All neurons are active, and dropout is not applied. This ensures that the model uses all its learned features to make accurate predictions.\n",
        "\n",
        "2. `Scaling`: The weights of the active neurons are scaled by the inverse of the dropout rate to maintain consistent expected outputs between training and inference.\n",
        "\n",
        "### Choosing Dropout Rate:\n",
        "\n",
        "### The dropout rate, which determines the fraction of neurons to be dropped out, is a hyperparameter that needs to be set based on experimentation. Typically, dropout rates between 0.2 and 0.5 are common, but the optimal rate can vary depending on the architecture and dataset.\n",
        "\n",
        "### In summary, dropout regularization is a powerful technique that helps prevent overfitting by introducing randomness during training. By forcing neurons to work independently and encouraging the learning of more robust features, dropout enhances the model's generalization capabilities. During inference, the scaling of weights ensures consistent behavior between training and prediction phases.\n",
        "---\n",
        "---"
      ]
    },
    {
      "cell_type": "markdown",
      "metadata": {
        "id": "DXsemXRa8TeB"
      },
      "source": [
        "## Q6. Describe the concept of Early Stopping as form of Regularization. How does it prevent overfitting during training process?\n",
        "---"
      ]
    },
    {
      "cell_type": "markdown",
      "metadata": {
        "id": "hlKfe4QB8TeC"
      },
      "source": [
        "## Answer :"
      ]
    },
    {
      "cell_type": "markdown",
      "metadata": {
        "id": "vjXBG2a78TeC"
      },
      "source": [
        "### Early stopping is a regularization technique used in machine learning to prevent overfitting during the training process of a model. Overfitting occurs when a model learns to perform exceptionally well on the training data but doesn't generalize well to new, unseen data. Early stopping helps counteract this by monitoring the model's performance on a validation dataset and stopping the training process when the model's performance on the validation dataset starts to degrade, indicating that further training might lead to overfitting.\n",
        "\n",
        "### Here's how early stopping works as a form of regularization and how it prevents overfitting:\n",
        "\n",
        "1. `Training and Validation Data`: During the training process, the dataset is typically divided into two parts: the training set and the validation set. The model is trained on the training set and evaluated on the validation set.\n",
        "\n",
        "2. `Monitoring Metrics`: A performance metric, such as accuracy, loss, or any other appropriate metric, is calculated on both the training and validation sets as the training progresses. The goal is to see how well the model is performing on both sets.\n",
        "\n",
        "3. `Early Stopping Criterion`: A key aspect of early stopping is the definition of a stopping criterion. This criterion determines when the training process should be stopped. It is often based on the performance of the model on the validation set. For example, if the validation loss starts to increase consistently over a certain number of epochs, this could be a sign that the model is starting to overfit.\n",
        "\n",
        "4. `Patience Parameter`: Early stopping involves a parameter called \"patience.\" Patience determines how many consecutive epochs the model's performance can degrade on the validation set before stopping the training. If the validation performance improves or remains relatively stable for a number of epochs equal to or greater than the patience value, the training continues. However, if the validation performance degrades for more than the patience value, the training is halted.\n",
        "\n",
        "5. `Preventing Overfitting`: Early stopping acts as a form of regularization by preventing the model from being trained for too many epochs, which can lead to it fitting the noise in the training data and becoming overly specialized to that data. By stopping the training when the validation performance deteriorates, the model's ability to generalize to new data is enhanced, since it doesn't get a chance to fine-tune itself to the idiosyncrasies of the training data.\n",
        "\n",
        "### In summary, early stopping as a form of regularization helps prevent overfitting by keeping the model's training process in check. It ensures that the model doesn't continue training until it perfectly fits the training data, but instead halts the training when there are signs of potential overfitting, as indicated by degraded performance on the validation set. This strikes a balance between model complexity and generalization, leading to better performance on unseen data.\n",
        "---\n",
        "---"
      ]
    },
    {
      "cell_type": "markdown",
      "metadata": {
        "id": "htdean8q8TeC"
      },
      "source": [
        "## Q7. Explain the concept of BatchNormalization and its role as a form of regularization. How does Batch Normalization prevent overfitting?\n",
        "---"
      ]
    },
    {
      "cell_type": "markdown",
      "metadata": {
        "id": "s9P4tzgr8TeC"
      },
      "source": [
        "## Answer :"
      ]
    },
    {
      "cell_type": "markdown",
      "metadata": {
        "id": "DxwrztzH8TeC"
      },
      "source": [
        "### Batch Normalization is a technique used in neural networks to improve training stability and convergence speed by normalizing the activations within each layer of a neural network. It also has a regularizing effect that helps prevent overfitting. Let's break down the concept of Batch Normalization and how it serves as a form of regularization:\n",
        "\n",
        "### Concept of Batch Normalization:\n",
        "### In deep neural networks, during training, the distribution of activations within each layer can change as the network parameters get updated. This phenomenon is known as the \"internal covariate shift,\" and it can slow down training and make convergence more challenging. Batch Normalization aims to address this by normalizing the activations of each layer across a batch of training examples.\n",
        "\n",
        "The steps involved in Batch Normalization are as follows:\n",
        "1. For each mini-batch of training examples, calculate the mean and variance of the activations for each feature across the batch.\n",
        "2. Normalize the activations by subtracting the mean and dividing by the standard deviation.\n",
        "3. Scale and shift the normalized activations using learnable parameters (gamma and beta) to allow the model to recover any useful representation that might have been lost during normalization.\n",
        "4. Finally, the scaled and shifted activations are fed into the next layer of the network.\n",
        "\n",
        "### Role as a Form of Regularization:\n",
        "Batch Normalization has a regularizing effect on the model, which helps prevent overfitting in the following ways:\n",
        "\n",
        "1. `Smoothing Effect:` By normalizing the activations within each batch, Batch Normalization reduces the impact of outliers and extreme activations. This helps prevent the model from overly adapting to noise in the data, which can lead to overfitting.\n",
        "\n",
        "2. `Reduced Internal Covariate Shift:` The normalization of activations helps stabilize the training process by reducing the internal covariate shift. This can lead to faster convergence and more stable training, which in turn can help prevent overfitting. When the network's weights are updated more gradually and consistently, the risk of overfitting is decreased.\n",
        "\n",
        "3. `Regularization Strength:` Batch Normalization introduces noise to the activations due to the mini-batch statistics used for normalization. This noise acts as a mild form of regularization by discouraging the model from becoming overly sensitive to specific instances in the training data.\n",
        "\n",
        "4. `Higher Learning Rates:` The normalization of activations allows for higher learning rates to be used during training without causing divergence. This enables the model to explore the parameter space more effectively, potentially leading to a better generalization of the model.\n",
        "\n",
        "### In summary, Batch Normalization is a technique that improves training stability and convergence speed by normalizing activations within each layer of a neural network. Its regularizing effect helps prevent overfitting by smoothing the activations, reducing internal covariate shift, and introducing noise to the training process. This makes the training process more consistent, allows for higher learning rates, and encourages the model to generalize better to unseen data.\n",
        "---\n",
        "---"
      ]
    },
    {
      "cell_type": "markdown",
      "metadata": {
        "id": "okTJilih8TeC"
      },
      "source": [
        "# <p style=\"padding:10px;background-color:#87CEEB ;margin:10;color:#000000;font-family:newtimeroman;font-size:100%;text-align:center;border-radius: 10px 10px ;overflow:hidden;font-weight:50\">Part 3 : Applying Regularization</p>"
      ]
    },
    {
      "cell_type": "markdown",
      "metadata": {
        "id": "_LffzL6m8TeD"
      },
      "source": [
        "## Q8. Implement Dropout Regularization in deep learning model framework of your choice. Evaluate its impact on model performance and compare it with a model without dropout\n",
        "---"
      ]
    },
    {
      "cell_type": "markdown",
      "metadata": {
        "id": "pmbLUK7g8TeD"
      },
      "source": [
        "## Answer :"
      ]
    },
    {
      "cell_type": "code",
      "execution_count": null,
      "metadata": {
        "id": "Q1f1EgQI8TeD"
      },
      "outputs": [],
      "source": [
        "# Create a dummy dataset\n",
        "from sklearn.datasets import make_classification\n",
        "X, Y = make_classification(n_samples=6000, n_classes=3, n_features=30, n_informative=15, random_state=42)"
      ]
    },
    {
      "cell_type": "code",
      "execution_count": null,
      "metadata": {
        "id": "ZHjdbn0P8TeE",
        "outputId": "14b9f5a0-7785-468f-c1f1-4b48210ee389"
      },
      "outputs": [
        {
          "data": {
            "text/plain": [
              "array([[-1.44143883,  0.99759432,  0.64881894, ...,  0.26075709,\n",
              "        -2.4917032 , -0.52457062],\n",
              "       [-5.14274116,  2.44379509,  0.59681357, ..., -0.67343933,\n",
              "         2.13880873, -1.34828698],\n",
              "       [ 0.65562953, -1.84153079,  0.80405201, ..., -1.45272723,\n",
              "        -3.46992694,  1.12992925],\n",
              "       ...,\n",
              "       [ 4.12653393, -4.34701772, -0.2590811 , ..., -0.28741425,\n",
              "         7.28922344, -1.18100918],\n",
              "       [-0.71009863,  3.94052935,  1.83897001, ...,  3.29290311,\n",
              "         6.91505595,  0.80226731],\n",
              "       [ 1.24909105,  3.92319056, -0.05696048, ..., -2.61261051,\n",
              "        -3.21501144, -0.04845804]])"
            ]
          },
          "execution_count": 2,
          "metadata": {},
          "output_type": "execute_result"
        }
      ],
      "source": [
        "X"
      ]
    },
    {
      "cell_type": "code",
      "execution_count": null,
      "metadata": {
        "id": "JpQepECr8TeF",
        "outputId": "8f715c7f-ff50-4b7e-e344-f7d3b1b7e074"
      },
      "outputs": [
        {
          "data": {
            "text/plain": [
              "array([2, 2, 0, ..., 1, 0, 2])"
            ]
          },
          "execution_count": 3,
          "metadata": {},
          "output_type": "execute_result"
        }
      ],
      "source": [
        "Y"
      ]
    },
    {
      "cell_type": "markdown",
      "metadata": {
        "id": "jgAIU3be8TeF"
      },
      "source": [
        "### Perform Train Test Split"
      ]
    },
    {
      "cell_type": "code",
      "execution_count": null,
      "metadata": {
        "id": "r6YZrA9U8TeF"
      },
      "outputs": [],
      "source": [
        "from sklearn.model_selection import train_test_split\n",
        "xtrain, xtest, ytrain, ytest = train_test_split(X,Y, test_size=0.2, random_state=42)"
      ]
    },
    {
      "cell_type": "code",
      "execution_count": null,
      "metadata": {
        "id": "DgaAICYE8TeF",
        "outputId": "c3111cc1-c7ea-4b69-a519-75379d4a3e16"
      },
      "outputs": [
        {
          "data": {
            "text/plain": [
              "(4800, 30)"
            ]
          },
          "execution_count": 5,
          "metadata": {},
          "output_type": "execute_result"
        }
      ],
      "source": [
        "xtrain.shape"
      ]
    },
    {
      "cell_type": "code",
      "execution_count": null,
      "metadata": {
        "id": "ERZDp7-x8TeF",
        "outputId": "a0b931ca-10fc-4d73-ab66-5ad25886536d"
      },
      "outputs": [
        {
          "data": {
            "text/plain": [
              "(1200, 30)"
            ]
          },
          "execution_count": 6,
          "metadata": {},
          "output_type": "execute_result"
        }
      ],
      "source": [
        "xtest.shape"
      ]
    },
    {
      "cell_type": "markdown",
      "metadata": {
        "id": "cm_34jJY8TeF"
      },
      "source": [
        "### Scaling the train and test data"
      ]
    },
    {
      "cell_type": "code",
      "execution_count": null,
      "metadata": {
        "id": "NCMJVsTf8TeJ"
      },
      "outputs": [],
      "source": [
        "from sklearn.preprocessing import StandardScaler\n",
        "scaler =  StandardScaler()\n",
        "xtrain = scaler.fit_transform(xtrain)\n",
        "xtest = scaler.transform(xtest)"
      ]
    },
    {
      "cell_type": "markdown",
      "metadata": {
        "id": "b2zvJTx68TeJ"
      },
      "source": [
        "### Converting y data to categorical"
      ]
    },
    {
      "cell_type": "code",
      "execution_count": null,
      "metadata": {
        "id": "yvCEDfS98TeK"
      },
      "outputs": [],
      "source": [
        "from keras.utils import to_categorical\n",
        "ytrain_cat = to_categorical(ytrain)\n",
        "ytest_cat = to_categorical(ytest)"
      ]
    },
    {
      "cell_type": "code",
      "execution_count": null,
      "metadata": {
        "id": "MY6aoqOd8TeK",
        "outputId": "1a5975d6-721b-4312-cc7d-c527c8d06f6b"
      },
      "outputs": [
        {
          "data": {
            "text/plain": [
              "array([[0., 1., 0.],\n",
              "       [0., 0., 1.],\n",
              "       [1., 0., 0.],\n",
              "       ...,\n",
              "       [0., 0., 1.],\n",
              "       [1., 0., 0.],\n",
              "       [0., 0., 1.]], dtype=float32)"
            ]
          },
          "execution_count": 9,
          "metadata": {},
          "output_type": "execute_result"
        }
      ],
      "source": [
        "ytrain_cat"
      ]
    },
    {
      "cell_type": "code",
      "execution_count": null,
      "metadata": {
        "id": "5mke4oQ88TeK",
        "outputId": "2146970a-b930-4ffd-b992-06feda2a6857"
      },
      "outputs": [
        {
          "data": {
            "text/plain": [
              "array([[1., 0., 0.],\n",
              "       [0., 0., 1.],\n",
              "       [0., 0., 1.],\n",
              "       ...,\n",
              "       [0., 0., 1.],\n",
              "       [1., 0., 0.],\n",
              "       [1., 0., 0.]], dtype=float32)"
            ]
          },
          "execution_count": 10,
          "metadata": {},
          "output_type": "execute_result"
        }
      ],
      "source": [
        "ytest_cat"
      ]
    },
    {
      "cell_type": "markdown",
      "metadata": {
        "id": "91NBLd3v8TeL"
      },
      "source": [
        "### Creating Model1 without dropout"
      ]
    },
    {
      "cell_type": "code",
      "execution_count": null,
      "metadata": {
        "id": "kK0rt9Ch8TeL"
      },
      "outputs": [],
      "source": [
        "from keras.models import Sequential\n",
        "from keras.layers import Dense, Dropout"
      ]
    },
    {
      "cell_type": "code",
      "execution_count": null,
      "metadata": {
        "id": "JeFhqdFD8TeL"
      },
      "outputs": [],
      "source": [
        "# Initialize the model\n",
        "model1 = Sequential()\n",
        "\n",
        "# Dense Layer 1\n",
        "model1.add(Dense(64, activation='relu',input_dim = xtrain.shape[1]))\n",
        "\n",
        "# Dense Layer 2\n",
        "model1.add(Dense(32,activation='relu'))\n",
        "\n",
        "# Output Layer\n",
        "model1.add(Dense(3,activation='softmax'))"
      ]
    },
    {
      "cell_type": "code",
      "execution_count": null,
      "metadata": {
        "id": "v6DqV4hr8TeL",
        "outputId": "1389587e-fde9-486f-fee0-a46b04ec8468"
      },
      "outputs": [
        {
          "name": "stdout",
          "output_type": "stream",
          "text": [
            "Model: \"sequential\"\n",
            "_________________________________________________________________\n",
            " Layer (type)                Output Shape              Param #   \n",
            "=================================================================\n",
            " dense (Dense)               (None, 64)                1984      \n",
            "                                                                 \n",
            " dense_1 (Dense)             (None, 32)                2080      \n",
            "                                                                 \n",
            " dense_2 (Dense)             (None, 3)                 99        \n",
            "                                                                 \n",
            "=================================================================\n",
            "Total params: 4163 (16.26 KB)\n",
            "Trainable params: 4163 (16.26 KB)\n",
            "Non-trainable params: 0 (0.00 Byte)\n",
            "_________________________________________________________________\n"
          ]
        }
      ],
      "source": [
        "model1.summary()"
      ]
    },
    {
      "cell_type": "code",
      "execution_count": null,
      "metadata": {
        "id": "V374kuRW8TeM"
      },
      "outputs": [],
      "source": [
        "model1.compile(optimizer='adam',loss='categorical_crossentropy',metrics=['accuracy'])"
      ]
    },
    {
      "cell_type": "code",
      "execution_count": null,
      "metadata": {
        "id": "oIu2aYxN8TeM",
        "outputId": "eb32081d-e9d5-42b1-9ddb-245860335090"
      },
      "outputs": [
        {
          "name": "stdout",
          "output_type": "stream",
          "text": [
            "Epoch 1/100\n"
          ]
        },
        {
          "name": "stdout",
          "output_type": "stream",
          "text": [
            "120/120 [==============================] - 1s 3ms/step - loss: 0.8850 - accuracy: 0.5992 - val_loss: 0.7111 - val_accuracy: 0.7219\n",
            "Epoch 2/100\n",
            "120/120 [==============================] - 0s 2ms/step - loss: 0.6232 - accuracy: 0.7500 - val_loss: 0.5544 - val_accuracy: 0.7760\n",
            "Epoch 3/100\n",
            "120/120 [==============================] - 0s 2ms/step - loss: 0.4978 - accuracy: 0.8094 - val_loss: 0.4625 - val_accuracy: 0.8073\n",
            "Epoch 4/100\n",
            "120/120 [==============================] - 0s 2ms/step - loss: 0.4084 - accuracy: 0.8542 - val_loss: 0.4009 - val_accuracy: 0.8406\n",
            "Epoch 5/100\n",
            "120/120 [==============================] - 0s 2ms/step - loss: 0.3441 - accuracy: 0.8813 - val_loss: 0.3654 - val_accuracy: 0.8656\n",
            "Epoch 6/100\n",
            "120/120 [==============================] - 0s 2ms/step - loss: 0.2968 - accuracy: 0.8992 - val_loss: 0.3334 - val_accuracy: 0.8792\n",
            "Epoch 7/100\n",
            "120/120 [==============================] - 0s 2ms/step - loss: 0.2612 - accuracy: 0.9120 - val_loss: 0.3043 - val_accuracy: 0.8875\n",
            "Epoch 8/100\n",
            "120/120 [==============================] - 0s 2ms/step - loss: 0.2313 - accuracy: 0.9229 - val_loss: 0.2900 - val_accuracy: 0.8906\n",
            "Epoch 9/100\n",
            "120/120 [==============================] - 0s 2ms/step - loss: 0.2070 - accuracy: 0.9331 - val_loss: 0.2819 - val_accuracy: 0.8958\n",
            "Epoch 10/100\n",
            "120/120 [==============================] - 0s 2ms/step - loss: 0.1876 - accuracy: 0.9411 - val_loss: 0.2845 - val_accuracy: 0.8938\n",
            "Epoch 11/100\n",
            "120/120 [==============================] - 0s 2ms/step - loss: 0.1739 - accuracy: 0.9443 - val_loss: 0.2739 - val_accuracy: 0.9000\n",
            "Epoch 12/100\n",
            "120/120 [==============================] - 0s 2ms/step - loss: 0.1570 - accuracy: 0.9542 - val_loss: 0.2797 - val_accuracy: 0.9000\n",
            "Epoch 13/100\n",
            "120/120 [==============================] - 0s 2ms/step - loss: 0.1479 - accuracy: 0.9586 - val_loss: 0.2667 - val_accuracy: 0.9010\n",
            "Epoch 14/100\n",
            "120/120 [==============================] - 0s 2ms/step - loss: 0.1326 - accuracy: 0.9654 - val_loss: 0.2708 - val_accuracy: 0.9000\n",
            "Epoch 15/100\n",
            "120/120 [==============================] - 0s 2ms/step - loss: 0.1226 - accuracy: 0.9701 - val_loss: 0.2733 - val_accuracy: 0.9031\n",
            "Epoch 16/100\n",
            "120/120 [==============================] - 0s 2ms/step - loss: 0.1160 - accuracy: 0.9693 - val_loss: 0.2680 - val_accuracy: 0.9073\n",
            "Epoch 17/100\n",
            "120/120 [==============================] - 0s 2ms/step - loss: 0.1066 - accuracy: 0.9755 - val_loss: 0.2727 - val_accuracy: 0.9031\n",
            "Epoch 18/100\n",
            "120/120 [==============================] - 0s 2ms/step - loss: 0.0987 - accuracy: 0.9794 - val_loss: 0.2846 - val_accuracy: 0.9031\n",
            "Epoch 19/100\n",
            "120/120 [==============================] - 0s 2ms/step - loss: 0.0924 - accuracy: 0.9820 - val_loss: 0.2791 - val_accuracy: 0.9052\n",
            "Epoch 20/100\n",
            "120/120 [==============================] - 0s 2ms/step - loss: 0.0837 - accuracy: 0.9823 - val_loss: 0.2881 - val_accuracy: 0.9031\n",
            "Epoch 21/100\n",
            "120/120 [==============================] - 0s 2ms/step - loss: 0.0787 - accuracy: 0.9852 - val_loss: 0.3013 - val_accuracy: 0.9073\n",
            "Epoch 22/100\n",
            "120/120 [==============================] - 0s 2ms/step - loss: 0.0740 - accuracy: 0.9849 - val_loss: 0.3007 - val_accuracy: 0.9021\n",
            "Epoch 23/100\n",
            "120/120 [==============================] - 0s 2ms/step - loss: 0.0695 - accuracy: 0.9859 - val_loss: 0.3011 - val_accuracy: 0.9021\n",
            "Epoch 24/100\n",
            "120/120 [==============================] - 0s 2ms/step - loss: 0.0636 - accuracy: 0.9896 - val_loss: 0.2967 - val_accuracy: 0.9042\n",
            "Epoch 25/100\n",
            "120/120 [==============================] - 0s 2ms/step - loss: 0.0586 - accuracy: 0.9898 - val_loss: 0.3157 - val_accuracy: 0.9021\n",
            "Epoch 26/100\n",
            "120/120 [==============================] - 0s 2ms/step - loss: 0.0552 - accuracy: 0.9917 - val_loss: 0.3065 - val_accuracy: 0.9031\n",
            "Epoch 27/100\n",
            "120/120 [==============================] - 0s 2ms/step - loss: 0.0500 - accuracy: 0.9919 - val_loss: 0.3274 - val_accuracy: 0.9010\n",
            "Epoch 28/100\n",
            "120/120 [==============================] - 0s 2ms/step - loss: 0.0442 - accuracy: 0.9953 - val_loss: 0.3467 - val_accuracy: 0.9000\n",
            "Epoch 29/100\n",
            "120/120 [==============================] - 0s 2ms/step - loss: 0.0417 - accuracy: 0.9943 - val_loss: 0.3440 - val_accuracy: 0.9021\n",
            "Epoch 30/100\n",
            "120/120 [==============================] - 0s 2ms/step - loss: 0.0395 - accuracy: 0.9956 - val_loss: 0.3518 - val_accuracy: 0.9000\n",
            "Epoch 31/100\n",
            "120/120 [==============================] - 0s 2ms/step - loss: 0.0361 - accuracy: 0.9958 - val_loss: 0.3631 - val_accuracy: 0.9052\n",
            "Epoch 32/100\n",
            "120/120 [==============================] - 0s 2ms/step - loss: 0.0329 - accuracy: 0.9979 - val_loss: 0.3506 - val_accuracy: 0.9000\n",
            "Epoch 33/100\n",
            "120/120 [==============================] - 0s 2ms/step - loss: 0.0294 - accuracy: 0.9969 - val_loss: 0.3621 - val_accuracy: 0.9031\n",
            "Epoch 34/100\n",
            "120/120 [==============================] - 0s 2ms/step - loss: 0.0280 - accuracy: 0.9971 - val_loss: 0.3701 - val_accuracy: 0.9000\n",
            "Epoch 35/100\n",
            "120/120 [==============================] - 0s 2ms/step - loss: 0.0249 - accuracy: 0.9984 - val_loss: 0.3909 - val_accuracy: 0.9010\n",
            "Epoch 36/100\n",
            "120/120 [==============================] - 0s 2ms/step - loss: 0.0231 - accuracy: 0.9984 - val_loss: 0.3983 - val_accuracy: 0.9000\n",
            "Epoch 37/100\n",
            "120/120 [==============================] - 0s 2ms/step - loss: 0.0205 - accuracy: 0.9990 - val_loss: 0.4041 - val_accuracy: 0.8958\n",
            "Epoch 38/100\n",
            "120/120 [==============================] - 0s 2ms/step - loss: 0.0197 - accuracy: 0.9987 - val_loss: 0.4349 - val_accuracy: 0.8938\n",
            "Epoch 39/100\n",
            "120/120 [==============================] - 0s 2ms/step - loss: 0.0181 - accuracy: 0.9990 - val_loss: 0.4070 - val_accuracy: 0.9010\n",
            "Epoch 40/100\n",
            "120/120 [==============================] - 0s 2ms/step - loss: 0.0157 - accuracy: 0.9990 - val_loss: 0.4282 - val_accuracy: 0.9010\n",
            "Epoch 41/100\n",
            "120/120 [==============================] - 0s 2ms/step - loss: 0.0143 - accuracy: 0.9992 - val_loss: 0.4462 - val_accuracy: 0.8938\n",
            "Epoch 42/100\n",
            "120/120 [==============================] - 0s 2ms/step - loss: 0.0132 - accuracy: 0.9992 - val_loss: 0.4429 - val_accuracy: 0.8969\n",
            "Epoch 43/100\n",
            "120/120 [==============================] - 0s 2ms/step - loss: 0.0111 - accuracy: 0.9992 - val_loss: 0.4672 - val_accuracy: 0.8917\n",
            "Epoch 44/100\n",
            "120/120 [==============================] - 0s 2ms/step - loss: 0.0117 - accuracy: 0.9992 - val_loss: 0.4670 - val_accuracy: 0.8990\n",
            "Epoch 45/100\n",
            "120/120 [==============================] - 0s 2ms/step - loss: 0.0091 - accuracy: 0.9997 - val_loss: 0.4809 - val_accuracy: 0.8969\n",
            "Epoch 46/100\n",
            "120/120 [==============================] - 0s 2ms/step - loss: 0.0081 - accuracy: 0.9997 - val_loss: 0.4830 - val_accuracy: 0.8927\n",
            "Epoch 47/100\n",
            "120/120 [==============================] - 0s 2ms/step - loss: 0.0075 - accuracy: 0.9997 - val_loss: 0.4907 - val_accuracy: 0.9010\n",
            "Epoch 48/100\n",
            "120/120 [==============================] - 0s 2ms/step - loss: 0.0063 - accuracy: 0.9997 - val_loss: 0.5048 - val_accuracy: 0.9010\n",
            "Epoch 49/100\n",
            "120/120 [==============================] - 0s 2ms/step - loss: 0.0053 - accuracy: 1.0000 - val_loss: 0.4892 - val_accuracy: 0.9000\n",
            "Epoch 50/100\n",
            "120/120 [==============================] - 0s 2ms/step - loss: 0.0050 - accuracy: 0.9997 - val_loss: 0.5082 - val_accuracy: 0.8979\n",
            "Epoch 51/100\n",
            "120/120 [==============================] - 0s 2ms/step - loss: 0.0048 - accuracy: 1.0000 - val_loss: 0.5099 - val_accuracy: 0.9021\n",
            "Epoch 52/100\n",
            "120/120 [==============================] - 0s 2ms/step - loss: 0.0046 - accuracy: 1.0000 - val_loss: 0.5260 - val_accuracy: 0.8927\n",
            "Epoch 53/100\n",
            "120/120 [==============================] - 0s 2ms/step - loss: 0.0039 - accuracy: 1.0000 - val_loss: 0.5286 - val_accuracy: 0.8990\n",
            "Epoch 54/100\n",
            "120/120 [==============================] - 0s 2ms/step - loss: 0.0037 - accuracy: 1.0000 - val_loss: 0.5327 - val_accuracy: 0.8990\n",
            "Epoch 55/100\n",
            "120/120 [==============================] - 0s 2ms/step - loss: 0.0037 - accuracy: 1.0000 - val_loss: 0.6049 - val_accuracy: 0.8958\n",
            "Epoch 56/100\n",
            "120/120 [==============================] - 0s 2ms/step - loss: 0.0301 - accuracy: 0.9888 - val_loss: 0.6789 - val_accuracy: 0.8771\n",
            "Epoch 57/100\n",
            "120/120 [==============================] - 0s 2ms/step - loss: 0.0310 - accuracy: 0.9885 - val_loss: 0.5398 - val_accuracy: 0.9010\n",
            "Epoch 58/100\n",
            "120/120 [==============================] - 0s 3ms/step - loss: 0.0101 - accuracy: 0.9984 - val_loss: 0.5721 - val_accuracy: 0.8938\n",
            "Epoch 59/100\n",
            "120/120 [==============================] - 0s 2ms/step - loss: 0.0061 - accuracy: 0.9995 - val_loss: 0.5973 - val_accuracy: 0.8979\n",
            "Epoch 60/100\n",
            "120/120 [==============================] - 0s 2ms/step - loss: 0.0045 - accuracy: 0.9997 - val_loss: 0.5791 - val_accuracy: 0.9021\n",
            "Epoch 61/100\n",
            "120/120 [==============================] - 0s 2ms/step - loss: 0.0027 - accuracy: 1.0000 - val_loss: 0.5786 - val_accuracy: 0.9021\n",
            "Epoch 62/100\n",
            "120/120 [==============================] - 0s 2ms/step - loss: 0.0023 - accuracy: 1.0000 - val_loss: 0.5813 - val_accuracy: 0.9031\n",
            "Epoch 63/100\n",
            "120/120 [==============================] - 0s 2ms/step - loss: 0.0020 - accuracy: 1.0000 - val_loss: 0.5887 - val_accuracy: 0.8979\n",
            "Epoch 64/100\n",
            "120/120 [==============================] - 0s 2ms/step - loss: 0.0019 - accuracy: 1.0000 - val_loss: 0.5887 - val_accuracy: 0.8990\n",
            "Epoch 65/100\n",
            "120/120 [==============================] - 0s 2ms/step - loss: 0.0017 - accuracy: 1.0000 - val_loss: 0.5957 - val_accuracy: 0.8990\n",
            "Epoch 66/100\n",
            "120/120 [==============================] - 0s 2ms/step - loss: 0.0016 - accuracy: 1.0000 - val_loss: 0.6063 - val_accuracy: 0.9000\n",
            "Epoch 67/100\n",
            "120/120 [==============================] - 0s 2ms/step - loss: 0.0015 - accuracy: 1.0000 - val_loss: 0.6071 - val_accuracy: 0.8969\n",
            "Epoch 68/100\n",
            "120/120 [==============================] - 0s 2ms/step - loss: 0.0014 - accuracy: 1.0000 - val_loss: 0.6076 - val_accuracy: 0.9021\n",
            "Epoch 69/100\n",
            "120/120 [==============================] - 0s 2ms/step - loss: 0.0013 - accuracy: 1.0000 - val_loss: 0.6148 - val_accuracy: 0.8979\n",
            "Epoch 70/100\n",
            "120/120 [==============================] - 0s 2ms/step - loss: 0.0013 - accuracy: 1.0000 - val_loss: 0.6230 - val_accuracy: 0.9000\n",
            "Epoch 71/100\n",
            "120/120 [==============================] - 0s 2ms/step - loss: 0.0012 - accuracy: 1.0000 - val_loss: 0.6242 - val_accuracy: 0.8990\n",
            "Epoch 72/100\n",
            "120/120 [==============================] - 0s 2ms/step - loss: 0.0011 - accuracy: 1.0000 - val_loss: 0.6250 - val_accuracy: 0.9000\n",
            "Epoch 73/100\n",
            "120/120 [==============================] - 0s 2ms/step - loss: 0.0011 - accuracy: 1.0000 - val_loss: 0.6327 - val_accuracy: 0.8969\n",
            "Epoch 74/100\n",
            "120/120 [==============================] - 0s 2ms/step - loss: 9.9251e-04 - accuracy: 1.0000 - val_loss: 0.6348 - val_accuracy: 0.8990\n",
            "Epoch 75/100\n",
            "120/120 [==============================] - 0s 2ms/step - loss: 9.6557e-04 - accuracy: 1.0000 - val_loss: 0.6482 - val_accuracy: 0.8969\n",
            "Epoch 76/100\n",
            "120/120 [==============================] - 0s 2ms/step - loss: 9.0404e-04 - accuracy: 1.0000 - val_loss: 0.6419 - val_accuracy: 0.8979\n",
            "Epoch 77/100\n",
            "120/120 [==============================] - 0s 2ms/step - loss: 8.6369e-04 - accuracy: 1.0000 - val_loss: 0.6489 - val_accuracy: 0.8990\n",
            "Epoch 78/100\n",
            "120/120 [==============================] - 0s 2ms/step - loss: 8.0380e-04 - accuracy: 1.0000 - val_loss: 0.6539 - val_accuracy: 0.9010\n",
            "Epoch 79/100\n",
            "120/120 [==============================] - 0s 2ms/step - loss: 7.6053e-04 - accuracy: 1.0000 - val_loss: 0.6560 - val_accuracy: 0.8990\n",
            "Epoch 80/100\n",
            "120/120 [==============================] - 0s 2ms/step - loss: 7.1759e-04 - accuracy: 1.0000 - val_loss: 0.6632 - val_accuracy: 0.8979\n",
            "Epoch 81/100\n",
            "120/120 [==============================] - 0s 2ms/step - loss: 6.7773e-04 - accuracy: 1.0000 - val_loss: 0.6714 - val_accuracy: 0.8979\n",
            "Epoch 82/100\n",
            "120/120 [==============================] - 0s 2ms/step - loss: 6.5299e-04 - accuracy: 1.0000 - val_loss: 0.6733 - val_accuracy: 0.9000\n",
            "Epoch 83/100\n",
            "120/120 [==============================] - 0s 2ms/step - loss: 6.0988e-04 - accuracy: 1.0000 - val_loss: 0.6768 - val_accuracy: 0.9000\n",
            "Epoch 84/100\n",
            "120/120 [==============================] - 0s 2ms/step - loss: 5.7881e-04 - accuracy: 1.0000 - val_loss: 0.6911 - val_accuracy: 0.8979\n",
            "Epoch 85/100\n",
            "120/120 [==============================] - 0s 2ms/step - loss: 5.3599e-04 - accuracy: 1.0000 - val_loss: 0.6868 - val_accuracy: 0.9000\n",
            "Epoch 86/100\n",
            "120/120 [==============================] - 0s 2ms/step - loss: 5.1206e-04 - accuracy: 1.0000 - val_loss: 0.6935 - val_accuracy: 0.8979\n",
            "Epoch 87/100\n",
            "120/120 [==============================] - 0s 2ms/step - loss: 4.8668e-04 - accuracy: 1.0000 - val_loss: 0.6981 - val_accuracy: 0.8990\n",
            "Epoch 88/100\n",
            "120/120 [==============================] - 0s 2ms/step - loss: 4.5045e-04 - accuracy: 1.0000 - val_loss: 0.7105 - val_accuracy: 0.8958\n",
            "Epoch 89/100\n",
            "120/120 [==============================] - 0s 2ms/step - loss: 4.3503e-04 - accuracy: 1.0000 - val_loss: 0.7043 - val_accuracy: 0.8990\n",
            "Epoch 90/100\n",
            "120/120 [==============================] - 0s 2ms/step - loss: 4.0176e-04 - accuracy: 1.0000 - val_loss: 0.7201 - val_accuracy: 0.9000\n",
            "Epoch 91/100\n",
            "120/120 [==============================] - 0s 2ms/step - loss: 3.7419e-04 - accuracy: 1.0000 - val_loss: 0.7203 - val_accuracy: 0.8990\n",
            "Epoch 92/100\n",
            "120/120 [==============================] - 0s 2ms/step - loss: 3.6289e-04 - accuracy: 1.0000 - val_loss: 0.7186 - val_accuracy: 0.8990\n",
            "Epoch 93/100\n",
            "120/120 [==============================] - 0s 2ms/step - loss: 3.4179e-04 - accuracy: 1.0000 - val_loss: 0.7232 - val_accuracy: 0.9000\n",
            "Epoch 94/100\n",
            "120/120 [==============================] - 0s 2ms/step - loss: 3.1812e-04 - accuracy: 1.0000 - val_loss: 0.7311 - val_accuracy: 0.8979\n",
            "Epoch 95/100\n",
            "120/120 [==============================] - 0s 2ms/step - loss: 2.9853e-04 - accuracy: 1.0000 - val_loss: 0.7391 - val_accuracy: 0.8969\n",
            "Epoch 96/100\n",
            "120/120 [==============================] - 0s 2ms/step - loss: 2.8086e-04 - accuracy: 1.0000 - val_loss: 0.7465 - val_accuracy: 0.8979\n",
            "Epoch 97/100\n",
            "120/120 [==============================] - 0s 2ms/step - loss: 2.5777e-04 - accuracy: 1.0000 - val_loss: 0.7451 - val_accuracy: 0.8990\n",
            "Epoch 98/100\n",
            "120/120 [==============================] - 0s 2ms/step - loss: 2.4591e-04 - accuracy: 1.0000 - val_loss: 0.7499 - val_accuracy: 0.8990\n",
            "Epoch 99/100\n",
            "120/120 [==============================] - 0s 2ms/step - loss: 2.2984e-04 - accuracy: 1.0000 - val_loss: 0.7629 - val_accuracy: 0.8979\n",
            "Epoch 100/100\n",
            "120/120 [==============================] - 0s 2ms/step - loss: 2.1941e-04 - accuracy: 1.0000 - val_loss: 0.7625 - val_accuracy: 0.9000\n"
          ]
        }
      ],
      "source": [
        "hist1 = model1.fit(xtrain, ytrain_cat, epochs=100, validation_split=0.2)"
      ]
    },
    {
      "cell_type": "markdown",
      "metadata": {
        "id": "BG0lgfRK8TeM"
      },
      "source": [
        "### Plot the learning curve"
      ]
    },
    {
      "cell_type": "code",
      "execution_count": null,
      "metadata": {
        "id": "fw770DQS8TeN"
      },
      "outputs": [],
      "source": [
        "import matplotlib.pyplot as plt\n",
        "def plot_learning_curve(hist):\n",
        "    plt.figure(figsize=(16,8))\n",
        "    plt.plot(hist.history['loss'],label='Training Loss')\n",
        "    plt.plot(hist.history['val_loss'],label='Validation Loss')\n",
        "    plt.xlabel('Epochs')\n",
        "    plt.ylabel('Categorical Crossentropy Loss')\n",
        "    plt.title('Learning Curve')\n",
        "    plt.legend()\n",
        "    plt.show()"
      ]
    },
    {
      "cell_type": "code",
      "execution_count": null,
      "metadata": {
        "id": "VXsNc8J88TeN",
        "outputId": "eb401344-fa5b-45cb-ed6c-d9977ea1e6cb"
      },
      "outputs": [
        {
          "data": {
            "image/png": "[encoded data removed]",
            "text/plain": [
              "<Figure size 1600x800 with 1 Axes>"
            ]
          },
          "metadata": {},
          "output_type": "display_data"
        }
      ],
      "source": [
        "plot_learning_curve(hist1)"
      ]
    },
    {
      "cell_type": "markdown",
      "metadata": {
        "id": "y6dYSQEx8TeO"
      },
      "source": [
        "### Evaluate the model"
      ]
    },
    {
      "cell_type": "code",
      "execution_count": null,
      "metadata": {
        "id": "2eqB-l2u8TeO",
        "outputId": "7a1baa9f-366f-41f4-e87b-f15fc9c942a5"
      },
      "outputs": [
        {
          "name": "stdout",
          "output_type": "stream",
          "text": [
            " 81/150 [===============>..............] - ETA: 0s - loss: 1.9299e-04 - accuracy: 1.0000"
          ]
        },
        {
          "name": "stdout",
          "output_type": "stream",
          "text": [
            "150/150 [==============================] - 0s 2ms/step - loss: 0.1527 - accuracy: 0.9800\n"
          ]
        }
      ],
      "source": [
        "# Training Evaluate\n",
        "tr_err1, tr_acc1 = model1.evaluate(xtrain, ytrain_cat)"
      ]
    },
    {
      "cell_type": "code",
      "execution_count": null,
      "metadata": {
        "id": "NVi2y6Qz8TeO",
        "outputId": "755acd58-eddd-4003-fa6d-5283ad7d1596"
      },
      "outputs": [
        {
          "name": "stdout",
          "output_type": "stream",
          "text": [
            "38/38 [==============================] - 0s 1ms/step - loss: 0.8038 - accuracy: 0.8892\n"
          ]
        }
      ],
      "source": [
        "# Testing evaluation\n",
        "ts_err1, ts_acc1 = model1.evaluate(xtest, ytest_cat)"
      ]
    },
    {
      "cell_type": "markdown",
      "metadata": {
        "id": "2lF6YcBN8TeP"
      },
      "source": [
        "### Model 2 With Dropout Layer"
      ]
    },
    {
      "cell_type": "code",
      "execution_count": null,
      "metadata": {
        "id": "Mp8SZzFg8TeP"
      },
      "outputs": [],
      "source": [
        "# Model 2 Initialize\n",
        "model2 = Sequential()\n",
        "\n",
        "# Dense Layer 1\n",
        "model2.add(Dense(64, activation='relu', input_dim=xtrain.shape[1]))\n",
        "\n",
        "# Dropout Layer 1\n",
        "model2.add(Dropout(0.3))\n",
        "\n",
        "# Dense Layer 2\n",
        "model2.add(Dense(32, activation='relu'))\n",
        "\n",
        "# Dropout Layer 2\n",
        "model2.add(Dropout(0.3))\n",
        "\n",
        "# Output Layer\n",
        "model2.add(Dense(3, activation='softmax'))"
      ]
    },
    {
      "cell_type": "code",
      "execution_count": null,
      "metadata": {
        "id": "zw3dfh0P8TeP",
        "outputId": "216521d3-9683-4fad-80aa-c07da0de3fce"
      },
      "outputs": [
        {
          "name": "stdout",
          "output_type": "stream",
          "text": [
            "Model: \"sequential_1\"\n",
            "_________________________________________________________________\n",
            " Layer (type)                Output Shape              Param #   \n",
            "=================================================================\n",
            " dense_3 (Dense)             (None, 64)                1984      \n",
            "                                                                 \n",
            " dropout (Dropout)           (None, 64)                0         \n",
            "                                                                 \n",
            " dense_4 (Dense)             (None, 32)                2080      \n",
            "                                                                 \n",
            " dropout_1 (Dropout)         (None, 32)                0         \n",
            "                                                                 \n",
            " dense_5 (Dense)             (None, 3)                 99        \n",
            "                                                                 \n",
            "=================================================================\n",
            "Total params: 4163 (16.26 KB)\n",
            "Trainable params: 4163 (16.26 KB)\n",
            "Non-trainable params: 0 (0.00 Byte)\n",
            "_________________________________________________________________\n"
          ]
        }
      ],
      "source": [
        "model2.summary()"
      ]
    },
    {
      "cell_type": "code",
      "execution_count": null,
      "metadata": {
        "id": "XRKtFgTQ8TeP"
      },
      "outputs": [],
      "source": [
        "model2.compile(optimizer='adam', loss='binary_crossentropy', metrics=['accuracy'])"
      ]
    },
    {
      "cell_type": "code",
      "execution_count": null,
      "metadata": {
        "id": "zQtCAyKU8TeQ",
        "outputId": "b249ac31-e88f-47cd-864a-baab3fd9cca8"
      },
      "outputs": [
        {
          "name": "stdout",
          "output_type": "stream",
          "text": [
            "Epoch 1/100\n",
            "120/120 [==============================] - 1s 2ms/step - loss: 0.6376 - accuracy: 0.4523 - val_loss: 0.5508 - val_accuracy: 0.6354\n",
            "Epoch 2/100\n",
            "120/120 [==============================] - 0s 1ms/step - loss: 0.5353 - accuracy: 0.6018 - val_loss: 0.4483 - val_accuracy: 0.7188\n",
            "Epoch 3/100\n",
            "120/120 [==============================] - 0s 1ms/step - loss: 0.4665 - accuracy: 0.6740 - val_loss: 0.3900 - val_accuracy: 0.7573\n",
            "Epoch 4/100\n",
            "120/120 [==============================] - 0s 1ms/step - loss: 0.4320 - accuracy: 0.7018 - val_loss: 0.3511 - val_accuracy: 0.7833\n",
            "Epoch 5/100\n",
            "120/120 [==============================] - 0s 1ms/step - loss: 0.3942 - accuracy: 0.7279 - val_loss: 0.3215 - val_accuracy: 0.8042\n",
            "Epoch 6/100\n",
            "120/120 [==============================] - 0s 1ms/step - loss: 0.3705 - accuracy: 0.7547 - val_loss: 0.3002 - val_accuracy: 0.8156\n",
            "Epoch 7/100\n",
            "120/120 [==============================] - 0s 1ms/step - loss: 0.3428 - accuracy: 0.7677 - val_loss: 0.2737 - val_accuracy: 0.8417\n",
            "Epoch 8/100\n",
            "120/120 [==============================] - 0s 1ms/step - loss: 0.3301 - accuracy: 0.7841 - val_loss: 0.2597 - val_accuracy: 0.8490\n",
            "Epoch 9/100\n",
            "120/120 [==============================] - 0s 1ms/step - loss: 0.3065 - accuracy: 0.7992 - val_loss: 0.2404 - val_accuracy: 0.8615\n",
            "Epoch 10/100\n",
            "120/120 [==============================] - 0s 1ms/step - loss: 0.2934 - accuracy: 0.8156 - val_loss: 0.2298 - val_accuracy: 0.8667\n",
            "Epoch 11/100\n",
            "120/120 [==============================] - 0s 1ms/step - loss: 0.2852 - accuracy: 0.8310 - val_loss: 0.2192 - val_accuracy: 0.8781\n",
            "Epoch 12/100\n",
            "120/120 [==============================] - 0s 1ms/step - loss: 0.2635 - accuracy: 0.8378 - val_loss: 0.2111 - val_accuracy: 0.8760\n",
            "Epoch 13/100\n",
            "120/120 [==============================] - 0s 1ms/step - loss: 0.2563 - accuracy: 0.8409 - val_loss: 0.2006 - val_accuracy: 0.8833\n",
            "Epoch 14/100\n",
            "120/120 [==============================] - 0s 1ms/step - loss: 0.2467 - accuracy: 0.8529 - val_loss: 0.1909 - val_accuracy: 0.8948\n",
            "Epoch 15/100\n",
            "120/120 [==============================] - 0s 1ms/step - loss: 0.2369 - accuracy: 0.8578 - val_loss: 0.1878 - val_accuracy: 0.8917\n",
            "Epoch 16/100\n",
            "120/120 [==============================] - 0s 1ms/step - loss: 0.2338 - accuracy: 0.8607 - val_loss: 0.1834 - val_accuracy: 0.8958\n",
            "Epoch 17/100\n",
            "120/120 [==============================] - 0s 1ms/step - loss: 0.2286 - accuracy: 0.8693 - val_loss: 0.1799 - val_accuracy: 0.8948\n",
            "Epoch 18/100\n",
            "120/120 [==============================] - 0s 1ms/step - loss: 0.2208 - accuracy: 0.8745 - val_loss: 0.1743 - val_accuracy: 0.8948\n",
            "Epoch 19/100\n",
            "120/120 [==============================] - 0s 1ms/step - loss: 0.2089 - accuracy: 0.8807 - val_loss: 0.1689 - val_accuracy: 0.9083\n",
            "Epoch 20/100\n",
            "120/120 [==============================] - 0s 1ms/step - loss: 0.2062 - accuracy: 0.8857 - val_loss: 0.1680 - val_accuracy: 0.9052\n",
            "Epoch 21/100\n",
            "120/120 [==============================] - 0s 1ms/step - loss: 0.2053 - accuracy: 0.8807 - val_loss: 0.1658 - val_accuracy: 0.9083\n",
            "Epoch 22/100\n",
            "120/120 [==============================] - 0s 1ms/step - loss: 0.2070 - accuracy: 0.8758 - val_loss: 0.1592 - val_accuracy: 0.9156\n",
            "Epoch 23/100\n",
            "120/120 [==============================] - 0s 1ms/step - loss: 0.1973 - accuracy: 0.8818 - val_loss: 0.1616 - val_accuracy: 0.9094\n",
            "Epoch 24/100\n",
            "120/120 [==============================] - 0s 1ms/step - loss: 0.1903 - accuracy: 0.8909 - val_loss: 0.1575 - val_accuracy: 0.9135\n",
            "Epoch 25/100\n",
            "120/120 [==============================] - 0s 1ms/step - loss: 0.1866 - accuracy: 0.8935 - val_loss: 0.1573 - val_accuracy: 0.9125\n",
            "Epoch 26/100\n",
            "120/120 [==============================] - 0s 1ms/step - loss: 0.1836 - accuracy: 0.8932 - val_loss: 0.1547 - val_accuracy: 0.9115\n",
            "Epoch 27/100\n",
            "120/120 [==============================] - 0s 1ms/step - loss: 0.1779 - accuracy: 0.8995 - val_loss: 0.1504 - val_accuracy: 0.9167\n",
            "Epoch 28/100\n",
            "120/120 [==============================] - 0s 1ms/step - loss: 0.1743 - accuracy: 0.9008 - val_loss: 0.1535 - val_accuracy: 0.9156\n",
            "Epoch 29/100\n",
            "120/120 [==============================] - 0s 1ms/step - loss: 0.1747 - accuracy: 0.9008 - val_loss: 0.1532 - val_accuracy: 0.9167\n",
            "Epoch 30/100\n",
            "120/120 [==============================] - 0s 1ms/step - loss: 0.1785 - accuracy: 0.9057 - val_loss: 0.1501 - val_accuracy: 0.9146\n",
            "Epoch 31/100\n",
            "120/120 [==============================] - 0s 1ms/step - loss: 0.1701 - accuracy: 0.9003 - val_loss: 0.1509 - val_accuracy: 0.9177\n",
            "Epoch 32/100\n",
            "120/120 [==============================] - 0s 1ms/step - loss: 0.1668 - accuracy: 0.9049 - val_loss: 0.1484 - val_accuracy: 0.9167\n",
            "Epoch 33/100\n",
            "120/120 [==============================] - 0s 1ms/step - loss: 0.1591 - accuracy: 0.9099 - val_loss: 0.1468 - val_accuracy: 0.9187\n",
            "Epoch 34/100\n",
            "120/120 [==============================] - 0s 1ms/step - loss: 0.1673 - accuracy: 0.9070 - val_loss: 0.1449 - val_accuracy: 0.9177\n",
            "Epoch 35/100\n",
            "120/120 [==============================] - 0s 1ms/step - loss: 0.1599 - accuracy: 0.9128 - val_loss: 0.1442 - val_accuracy: 0.9219\n",
            "Epoch 36/100\n",
            "120/120 [==============================] - 0s 1ms/step - loss: 0.1516 - accuracy: 0.9164 - val_loss: 0.1484 - val_accuracy: 0.9198\n",
            "Epoch 37/100\n",
            "120/120 [==============================] - 0s 1ms/step - loss: 0.1602 - accuracy: 0.9154 - val_loss: 0.1486 - val_accuracy: 0.9187\n",
            "Epoch 38/100\n",
            "120/120 [==============================] - 0s 1ms/step - loss: 0.1585 - accuracy: 0.9107 - val_loss: 0.1466 - val_accuracy: 0.9156\n",
            "Epoch 39/100\n",
            "120/120 [==============================] - 0s 1ms/step - loss: 0.1550 - accuracy: 0.9156 - val_loss: 0.1455 - val_accuracy: 0.9198\n",
            "Epoch 40/100\n",
            "120/120 [==============================] - 0s 1ms/step - loss: 0.1518 - accuracy: 0.9151 - val_loss: 0.1459 - val_accuracy: 0.9219\n",
            "Epoch 41/100\n",
            "120/120 [==============================] - 0s 1ms/step - loss: 0.1531 - accuracy: 0.9148 - val_loss: 0.1438 - val_accuracy: 0.9240\n",
            "Epoch 42/100\n",
            "120/120 [==============================] - 0s 1ms/step - loss: 0.1525 - accuracy: 0.9148 - val_loss: 0.1470 - val_accuracy: 0.9229\n",
            "Epoch 43/100\n",
            "120/120 [==============================] - 0s 1ms/step - loss: 0.1522 - accuracy: 0.9185 - val_loss: 0.1479 - val_accuracy: 0.9219\n",
            "Epoch 44/100\n",
            "120/120 [==============================] - 0s 1ms/step - loss: 0.1580 - accuracy: 0.9146 - val_loss: 0.1453 - val_accuracy: 0.9240\n",
            "Epoch 45/100\n",
            "120/120 [==============================] - 0s 1ms/step - loss: 0.1503 - accuracy: 0.9143 - val_loss: 0.1457 - val_accuracy: 0.9219\n",
            "Epoch 46/100\n",
            "120/120 [==============================] - 0s 1ms/step - loss: 0.1480 - accuracy: 0.9164 - val_loss: 0.1441 - val_accuracy: 0.9219\n",
            "Epoch 47/100\n",
            "120/120 [==============================] - 0s 1ms/step - loss: 0.1444 - accuracy: 0.9198 - val_loss: 0.1497 - val_accuracy: 0.9219\n",
            "Epoch 48/100\n",
            "120/120 [==============================] - 0s 1ms/step - loss: 0.1430 - accuracy: 0.9208 - val_loss: 0.1438 - val_accuracy: 0.9229\n",
            "Epoch 49/100\n",
            "120/120 [==============================] - 0s 1ms/step - loss: 0.1380 - accuracy: 0.9271 - val_loss: 0.1484 - val_accuracy: 0.9187\n",
            "Epoch 50/100\n",
            "120/120 [==============================] - 0s 1ms/step - loss: 0.1435 - accuracy: 0.9206 - val_loss: 0.1431 - val_accuracy: 0.9260\n",
            "Epoch 51/100\n",
            "120/120 [==============================] - 0s 1ms/step - loss: 0.1341 - accuracy: 0.9307 - val_loss: 0.1444 - val_accuracy: 0.9240\n",
            "Epoch 52/100\n",
            "120/120 [==============================] - 0s 1ms/step - loss: 0.1372 - accuracy: 0.9271 - val_loss: 0.1443 - val_accuracy: 0.9271\n",
            "Epoch 53/100\n",
            "120/120 [==============================] - 0s 1ms/step - loss: 0.1286 - accuracy: 0.9323 - val_loss: 0.1450 - val_accuracy: 0.9281\n",
            "Epoch 54/100\n",
            "120/120 [==============================] - 0s 1ms/step - loss: 0.1302 - accuracy: 0.9305 - val_loss: 0.1486 - val_accuracy: 0.9219\n",
            "Epoch 55/100\n",
            "120/120 [==============================] - 0s 1ms/step - loss: 0.1302 - accuracy: 0.9328 - val_loss: 0.1434 - val_accuracy: 0.9250\n",
            "Epoch 56/100\n",
            "120/120 [==============================] - 0s 1ms/step - loss: 0.1283 - accuracy: 0.9273 - val_loss: 0.1499 - val_accuracy: 0.9240\n",
            "Epoch 57/100\n",
            "120/120 [==============================] - 0s 1ms/step - loss: 0.1289 - accuracy: 0.9307 - val_loss: 0.1495 - val_accuracy: 0.9229\n",
            "Epoch 58/100\n",
            "120/120 [==============================] - 0s 1ms/step - loss: 0.1254 - accuracy: 0.9344 - val_loss: 0.1495 - val_accuracy: 0.9240\n",
            "Epoch 59/100\n",
            "120/120 [==============================] - 0s 1ms/step - loss: 0.1269 - accuracy: 0.9336 - val_loss: 0.1499 - val_accuracy: 0.9250\n",
            "Epoch 60/100\n",
            "120/120 [==============================] - 0s 1ms/step - loss: 0.1306 - accuracy: 0.9320 - val_loss: 0.1481 - val_accuracy: 0.9229\n",
            "Epoch 61/100\n",
            "120/120 [==============================] - 0s 1ms/step - loss: 0.1220 - accuracy: 0.9359 - val_loss: 0.1437 - val_accuracy: 0.9271\n",
            "Epoch 62/100\n",
            "120/120 [==============================] - 0s 1ms/step - loss: 0.1278 - accuracy: 0.9305 - val_loss: 0.1403 - val_accuracy: 0.9271\n",
            "Epoch 63/100\n",
            "120/120 [==============================] - 0s 1ms/step - loss: 0.1297 - accuracy: 0.9266 - val_loss: 0.1484 - val_accuracy: 0.9229\n",
            "Epoch 64/100\n",
            "120/120 [==============================] - 0s 1ms/step - loss: 0.1173 - accuracy: 0.9393 - val_loss: 0.1449 - val_accuracy: 0.9208\n",
            "Epoch 65/100\n",
            "120/120 [==============================] - 0s 1ms/step - loss: 0.1169 - accuracy: 0.9391 - val_loss: 0.1489 - val_accuracy: 0.9219\n",
            "Epoch 66/100\n",
            "120/120 [==============================] - 0s 1ms/step - loss: 0.1329 - accuracy: 0.9318 - val_loss: 0.1483 - val_accuracy: 0.9260\n",
            "Epoch 67/100\n",
            "120/120 [==============================] - 0s 1ms/step - loss: 0.1210 - accuracy: 0.9367 - val_loss: 0.1503 - val_accuracy: 0.9198\n",
            "Epoch 68/100\n",
            "120/120 [==============================] - 0s 1ms/step - loss: 0.1284 - accuracy: 0.9362 - val_loss: 0.1496 - val_accuracy: 0.9219\n",
            "Epoch 69/100\n",
            "120/120 [==============================] - 0s 1ms/step - loss: 0.1203 - accuracy: 0.9380 - val_loss: 0.1437 - val_accuracy: 0.9250\n",
            "Epoch 70/100\n",
            "120/120 [==============================] - 0s 1ms/step - loss: 0.1161 - accuracy: 0.9406 - val_loss: 0.1456 - val_accuracy: 0.9281\n",
            "Epoch 71/100\n",
            "120/120 [==============================] - 0s 1ms/step - loss: 0.1124 - accuracy: 0.9424 - val_loss: 0.1493 - val_accuracy: 0.9250\n",
            "Epoch 72/100\n",
            "120/120 [==============================] - 0s 1ms/step - loss: 0.1233 - accuracy: 0.9383 - val_loss: 0.1538 - val_accuracy: 0.9240\n",
            "Epoch 73/100\n",
            "120/120 [==============================] - 0s 1ms/step - loss: 0.1180 - accuracy: 0.9385 - val_loss: 0.1457 - val_accuracy: 0.9198\n",
            "Epoch 74/100\n",
            "120/120 [==============================] - 0s 1ms/step - loss: 0.1166 - accuracy: 0.9409 - val_loss: 0.1492 - val_accuracy: 0.9240\n",
            "Epoch 75/100\n",
            "120/120 [==============================] - 0s 1ms/step - loss: 0.1133 - accuracy: 0.9393 - val_loss: 0.1473 - val_accuracy: 0.9240\n",
            "Epoch 76/100\n",
            "120/120 [==============================] - 0s 1ms/step - loss: 0.1221 - accuracy: 0.9344 - val_loss: 0.1490 - val_accuracy: 0.9250\n",
            "Epoch 77/100\n",
            "120/120 [==============================] - 0s 1ms/step - loss: 0.1134 - accuracy: 0.9398 - val_loss: 0.1522 - val_accuracy: 0.9240\n",
            "Epoch 78/100\n",
            "120/120 [==============================] - 0s 1ms/step - loss: 0.1188 - accuracy: 0.9370 - val_loss: 0.1427 - val_accuracy: 0.9271\n",
            "Epoch 79/100\n",
            "120/120 [==============================] - 0s 1ms/step - loss: 0.1239 - accuracy: 0.9318 - val_loss: 0.1436 - val_accuracy: 0.9292\n",
            "Epoch 80/100\n",
            "120/120 [==============================] - 0s 1ms/step - loss: 0.1234 - accuracy: 0.9391 - val_loss: 0.1408 - val_accuracy: 0.9302\n",
            "Epoch 81/100\n",
            "120/120 [==============================] - 0s 1ms/step - loss: 0.1149 - accuracy: 0.9398 - val_loss: 0.1436 - val_accuracy: 0.9292\n",
            "Epoch 82/100\n",
            "120/120 [==============================] - 0s 1ms/step - loss: 0.1105 - accuracy: 0.9396 - val_loss: 0.1419 - val_accuracy: 0.9260\n",
            "Epoch 83/100\n",
            "120/120 [==============================] - 0s 1ms/step - loss: 0.1083 - accuracy: 0.9427 - val_loss: 0.1465 - val_accuracy: 0.9271\n",
            "Epoch 84/100\n",
            "120/120 [==============================] - 0s 1ms/step - loss: 0.1116 - accuracy: 0.9388 - val_loss: 0.1581 - val_accuracy: 0.9271\n",
            "Epoch 85/100\n",
            "120/120 [==============================] - 0s 1ms/step - loss: 0.1193 - accuracy: 0.9414 - val_loss: 0.1493 - val_accuracy: 0.9240\n",
            "Epoch 86/100\n",
            "120/120 [==============================] - 0s 1ms/step - loss: 0.1120 - accuracy: 0.9432 - val_loss: 0.1452 - val_accuracy: 0.9281\n",
            "Epoch 87/100\n",
            "120/120 [==============================] - 0s 1ms/step - loss: 0.1069 - accuracy: 0.9432 - val_loss: 0.1473 - val_accuracy: 0.9250\n",
            "Epoch 88/100\n",
            "120/120 [==============================] - 0s 1ms/step - loss: 0.1112 - accuracy: 0.9414 - val_loss: 0.1476 - val_accuracy: 0.9260\n",
            "Epoch 89/100\n",
            "120/120 [==============================] - 0s 1ms/step - loss: 0.1039 - accuracy: 0.9430 - val_loss: 0.1485 - val_accuracy: 0.9281\n",
            "Epoch 90/100\n",
            "120/120 [==============================] - 0s 1ms/step - loss: 0.1109 - accuracy: 0.9396 - val_loss: 0.1534 - val_accuracy: 0.9250\n",
            "Epoch 91/100\n",
            "120/120 [==============================] - 0s 1ms/step - loss: 0.1092 - accuracy: 0.9461 - val_loss: 0.1451 - val_accuracy: 0.9302\n",
            "Epoch 92/100\n",
            "120/120 [==============================] - 0s 1ms/step - loss: 0.1100 - accuracy: 0.9385 - val_loss: 0.1467 - val_accuracy: 0.9281\n",
            "Epoch 93/100\n",
            "120/120 [==============================] - 0s 1ms/step - loss: 0.1095 - accuracy: 0.9432 - val_loss: 0.1462 - val_accuracy: 0.9292\n",
            "Epoch 94/100\n",
            "120/120 [==============================] - 0s 1ms/step - loss: 0.1121 - accuracy: 0.9440 - val_loss: 0.1490 - val_accuracy: 0.9271\n",
            "Epoch 95/100\n",
            "120/120 [==============================] - 0s 1ms/step - loss: 0.1071 - accuracy: 0.9471 - val_loss: 0.1496 - val_accuracy: 0.9260\n",
            "Epoch 96/100\n",
            "120/120 [==============================] - 0s 1ms/step - loss: 0.1001 - accuracy: 0.9521 - val_loss: 0.1528 - val_accuracy: 0.9250\n",
            "Epoch 97/100\n",
            "120/120 [==============================] - 0s 1ms/step - loss: 0.1044 - accuracy: 0.9466 - val_loss: 0.1461 - val_accuracy: 0.9240\n",
            "Epoch 98/100\n",
            "120/120 [==============================] - 0s 1ms/step - loss: 0.1103 - accuracy: 0.9427 - val_loss: 0.1455 - val_accuracy: 0.9323\n",
            "Epoch 99/100\n",
            "120/120 [==============================] - 0s 1ms/step - loss: 0.1039 - accuracy: 0.9500 - val_loss: 0.1489 - val_accuracy: 0.9229\n",
            "Epoch 100/100\n",
            "120/120 [==============================] - 0s 1ms/step - loss: 0.1107 - accuracy: 0.9419 - val_loss: 0.1505 - val_accuracy: 0.9260\n"
          ]
        }
      ],
      "source": [
        "hist2 = model2.fit(xtrain, ytrain_cat, validation_split=0.2, epochs=100)"
      ]
    },
    {
      "cell_type": "markdown",
      "metadata": {
        "id": "HGDoL-5I8TeQ"
      },
      "source": [
        "### Plot learning curve2"
      ]
    },
    {
      "cell_type": "code",
      "execution_count": null,
      "metadata": {
        "id": "kY4tUc-d8TeQ",
        "outputId": "8034df3a-2f5b-44a3-82ff-077abfd9f5d3"
      },
      "outputs": [
        {
          "data": {
            "image/png": "[encoded data removed]",
            "text/plain": [
              "<Figure size 1600x800 with 1 Axes>"
            ]
          },
          "metadata": {},
          "output_type": "display_data"
        }
      ],
      "source": [
        "plot_learning_curve(hist2)"
      ]
    },
    {
      "cell_type": "markdown",
      "metadata": {
        "id": "lp6_uQcI8TeR"
      },
      "source": [
        "### Evaluate the data after dropout"
      ]
    },
    {
      "cell_type": "code",
      "execution_count": null,
      "metadata": {
        "id": "NDoCO-uz8TeR",
        "outputId": "803bf64a-8b9a-4d48-a568-34e499bcbb03"
      },
      "outputs": [
        {
          "name": "stdout",
          "output_type": "stream",
          "text": [
            "150/150 [==============================] - 0s 704us/step - loss: 0.0648 - accuracy: 0.9729\n"
          ]
        }
      ],
      "source": [
        "tr_err2, tr_acc2 = model2.evaluate(xtrain, ytrain_cat)"
      ]
    },
    {
      "cell_type": "code",
      "execution_count": null,
      "metadata": {
        "id": "PEVVCum98TeR",
        "outputId": "3b09fd32-3729-4a40-8778-eaf8541c8024"
      },
      "outputs": [
        {
          "name": "stdout",
          "output_type": "stream",
          "text": [
            "38/38 [==============================] - 0s 806us/step - loss: 0.1317 - accuracy: 0.9333\n"
          ]
        }
      ],
      "source": [
        "ts_err2, ts_acc2 = model2.evaluate(xtest, ytest_cat)"
      ]
    },
    {
      "cell_type": "markdown",
      "metadata": {
        "id": "WpCYb2-W8TeR"
      },
      "source": [
        "### Predict train and test data for best model2 with dropout"
      ]
    },
    {
      "cell_type": "code",
      "execution_count": null,
      "metadata": {
        "id": "aOt1GdaA8TeS",
        "outputId": "2ca58c28-330f-415c-ca3a-6590dacc1cb7"
      },
      "outputs": [
        {
          "name": "stdout",
          "output_type": "stream",
          "text": [
            "150/150 [==============================] - 0s 602us/step\n",
            "38/38 [==============================] - 0s 570us/step\n"
          ]
        }
      ],
      "source": [
        "yprob_tr = model2.predict(xtrain)\n",
        "yprob_ts = model2.predict(xtest)"
      ]
    },
    {
      "cell_type": "code",
      "execution_count": null,
      "metadata": {
        "id": "s5t3e-IG8TeS"
      },
      "outputs": [],
      "source": [
        "import numpy as np\n",
        "ypred_tr = np.argmax(yprob_tr, axis=-1)\n",
        "ypred_ts = np.argmax(yprob_ts, axis=-1)"
      ]
    },
    {
      "cell_type": "code",
      "execution_count": null,
      "metadata": {
        "id": "ecIfeiAC8TeS",
        "outputId": "ea19eb82-c804-41bc-f13d-49e5bc00c145"
      },
      "outputs": [
        {
          "data": {
            "text/plain": [
              "array([1, 2, 0, 1, 1], dtype=int64)"
            ]
          },
          "execution_count": 30,
          "metadata": {},
          "output_type": "execute_result"
        }
      ],
      "source": [
        "ypred_tr[0:5]"
      ]
    },
    {
      "cell_type": "code",
      "execution_count": null,
      "metadata": {
        "id": "6Xq1SJdk8TeS",
        "outputId": "bd52832e-de27-456b-83cb-29273325511c"
      },
      "outputs": [
        {
          "data": {
            "text/plain": [
              "array([1, 2, 0, 1, 1])"
            ]
          },
          "execution_count": 32,
          "metadata": {},
          "output_type": "execute_result"
        }
      ],
      "source": [
        "ytrain[0:5]"
      ]
    },
    {
      "cell_type": "code",
      "execution_count": null,
      "metadata": {
        "id": "Gyxos0H_8TeT",
        "outputId": "b586197d-f7e8-4f73-8b9d-df4073c875fb"
      },
      "outputs": [
        {
          "data": {
            "text/plain": [
              "array([0, 2, 2, 0, 0], dtype=int64)"
            ]
          },
          "execution_count": 33,
          "metadata": {},
          "output_type": "execute_result"
        }
      ],
      "source": [
        "ypred_ts[0:5]"
      ]
    },
    {
      "cell_type": "code",
      "execution_count": null,
      "metadata": {
        "id": "VKE8hOXs8TeT",
        "outputId": "592b7537-ce16-4655-a303-7817902d3e47"
      },
      "outputs": [
        {
          "data": {
            "text/plain": [
              "array([0, 2, 2, 2, 2])"
            ]
          },
          "execution_count": 34,
          "metadata": {},
          "output_type": "execute_result"
        }
      ],
      "source": [
        "ytest[0:5]"
      ]
    },
    {
      "cell_type": "markdown",
      "metadata": {
        "id": "MdDbvqyo8TeT"
      },
      "source": [
        "### Confusion Matrix"
      ]
    },
    {
      "cell_type": "code",
      "execution_count": null,
      "metadata": {
        "id": "upkJy-og8TeT",
        "outputId": "439f2d39-4891-4e97-b1da-2708c6352639"
      },
      "outputs": [
        {
          "data": {
            "text/plain": [
              "<sklearn.metrics._plot.confusion_matrix.ConfusionMatrixDisplay at 0x148aab028c0>"
            ]
          },
          "execution_count": 35,
          "metadata": {},
          "output_type": "execute_result"
        },
        {
          "data": {
            "image/png": "[encoded data removed]",
            "text/plain": [
              "<Figure size 640x480 with 2 Axes>"
            ]
          },
          "metadata": {},
          "output_type": "display_data"
        }
      ],
      "source": [
        "from sklearn.metrics import confusion_matrix, ConfusionMatrixDisplay\n",
        "cf = confusion_matrix(ytest, ypred_ts)\n",
        "cfd = ConfusionMatrixDisplay(cf, display_labels=[0,1,2])\n",
        "cfd.plot()"
      ]
    },
    {
      "cell_type": "markdown",
      "metadata": {
        "id": "t6ePPKYM8TeU"
      },
      "source": [
        "### Classification Report"
      ]
    },
    {
      "cell_type": "code",
      "execution_count": null,
      "metadata": {
        "id": "2ye8jucI8TeU",
        "outputId": "9895ac1c-39a2-4a08-c14f-0d05f4dc3993"
      },
      "outputs": [
        {
          "name": "stdout",
          "output_type": "stream",
          "text": [
            "              precision    recall  f1-score   support\n",
            "\n",
            "           0       0.93      0.91      0.92       405\n",
            "           1       0.95      0.95      0.95       403\n",
            "           2       0.92      0.94      0.93       392\n",
            "\n",
            "    accuracy                           0.93      1200\n",
            "   macro avg       0.93      0.93      0.93      1200\n",
            "weighted avg       0.93      0.93      0.93      1200\n",
            "\n"
          ]
        }
      ],
      "source": [
        "from sklearn.metrics import classification_report\n",
        "print(classification_report(ytest, ypred_ts))"
      ]
    },
    {
      "cell_type": "markdown",
      "metadata": {
        "id": "8-2Yt5j28TeV"
      },
      "source": [
        "### Compare Model with Dropout and without Dropout"
      ]
    },
    {
      "cell_type": "code",
      "execution_count": null,
      "metadata": {
        "id": "mVkuyZgk8TeV"
      },
      "outputs": [],
      "source": [
        "dct = {'Model':['Simple ANN', 'Dropout ANN'],\n",
        "       'train_loss':[tr_err1, tr_err2],\n",
        "       'test_loss':[ts_err1, ts_err2],\n",
        "       'train_accuracy':[tr_acc1, tr_acc2],\n",
        "       'test_accuracy':[ts_acc1, ts_acc2]}"
      ]
    },
    {
      "cell_type": "code",
      "execution_count": null,
      "metadata": {
        "id": "d7n6Emji8TeV",
        "outputId": "a951122c-8b55-49c3-9d93-7dca82feb3e0"
      },
      "outputs": [
        {
          "data": {
            "text/html": [
              "<div>\n",
              "<style scoped>\n",
              "    .dataframe tbody tr th:only-of-type {\n",
              "        vertical-align: middle;\n",
              "    }\n",
              "\n",
              "    .dataframe tbody tr th {\n",
              "        vertical-align: top;\n",
              "    }\n",
              "\n",
              "    .dataframe thead th {\n",
              "        text-align: right;\n",
              "    }\n",
              "</style>\n",
              "<table border=\"1\" class=\"dataframe\">\n",
              "  <thead>\n",
              "    <tr style=\"text-align: right;\">\n",
              "      <th></th>\n",
              "      <th>Model</th>\n",
              "      <th>train_loss</th>\n",
              "      <th>test_loss</th>\n",
              "      <th>train_accuracy</th>\n",
              "      <th>test_accuracy</th>\n",
              "    </tr>\n",
              "  </thead>\n",
              "  <tbody>\n",
              "    <tr>\n",
              "      <th>0</th>\n",
              "      <td>Simple ANN</td>\n",
              "      <td>0.152653</td>\n",
              "      <td>0.803775</td>\n",
              "      <td>0.980000</td>\n",
              "      <td>0.889167</td>\n",
              "    </tr>\n",
              "    <tr>\n",
              "      <th>1</th>\n",
              "      <td>Dropout ANN</td>\n",
              "      <td>0.064769</td>\n",
              "      <td>0.131747</td>\n",
              "      <td>0.972917</td>\n",
              "      <td>0.933333</td>\n",
              "    </tr>\n",
              "  </tbody>\n",
              "</table>\n",
              "</div>"
            ],
            "text/plain": [
              "         Model  train_loss  test_loss  train_accuracy  test_accuracy\n",
              "0   Simple ANN    0.152653   0.803775        0.980000       0.889167\n",
              "1  Dropout ANN    0.064769   0.131747        0.972917       0.933333"
            ]
          },
          "execution_count": 41,
          "metadata": {},
          "output_type": "execute_result"
        }
      ],
      "source": [
        "import pandas as pd\n",
        "eval_df = pd.DataFrame(dct)\n",
        "eval_df"
      ]
    },
    {
      "cell_type": "markdown",
      "metadata": {
        "id": "s2rUV4BT8TeV"
      },
      "source": [
        "### Above results clearly show that Dropout Layer helps in regularization\n",
        "---\n",
        "---"
      ]
    },
    {
      "cell_type": "markdown",
      "metadata": {
        "id": "Kf6BoJYM8TeW"
      },
      "source": [
        "## Q9. Discuss the considerations and tradeoffs when choosing the appropriate regularization technique for a given deep learning task.\n",
        "---"
      ]
    },
    {
      "cell_type": "markdown",
      "metadata": {
        "id": "Fzzmr-Tr8TeX"
      },
      "source": [
        "## Answer:"
      ]
    },
    {
      "cell_type": "markdown",
      "metadata": {
        "id": "E06bTSjP8TeX"
      },
      "source": [
        "### Choosing the right regularization technique for a deep learning task requires careful consideration of various factors and trade-offs. Different regularization techniques have different effects on the model's performance, training speed, and generalization ability. Here are some key considerations and trade-offs to keep in mind when choosing an appropriate regularization technique:\n",
        "\n",
        "1. `Dataset Size:`\n",
        "   - `Small Dataset:` In cases of small datasets, regularization techniques that introduce additional constraints to the model, such as L1 or L2 regularization, can help prevent overfitting by reducing the model's complexity.\n",
        "   - `Large Dataset:` With larger datasets, more complex models might be suitable, and techniques like dropout and data augmentation can provide effective regularization.\n",
        "\n",
        "2. `Model Complexity:`\n",
        "   - `Complex Models:` Highly complex models with a large number of parameters are more prone to overfitting. Regularization techniques like dropout, batch normalization, and early stopping can help control their complexity.\n",
        "   - `Simpler Models:` Simpler models might not need aggressive regularization and could benefit from techniques that don't overly constrain the model, such as early stopping or using larger learning rates.\n",
        "\n",
        "3. `Type of Overfitting:`\n",
        "   - `Bias-Variance Trade-off:` If the model is experiencing high bias (underfitting), adding regularization might not be necessary. If it's experiencing high variance (overfitting), regularization techniques can help reduce this variance.\n",
        "\n",
        "4. `Model Architecture:`\n",
        "   - `Convolutional Neural Networks (CNNs):` Techniques like dropout and batch normalization are commonly used in CNNs to regularize activations and improve convergence.\n",
        "   - `Recurrent Neural Networks (RNNs):` Gradient clipping, recurrent dropout, and weight tying are techniques often used to regulate RNNs.\n",
        "\n",
        "5. `Training Speed and Convergence:`\n",
        "   - `Faster Convergence:` Techniques like batch normalization can accelerate convergence and stabilize training, allowing for faster model development.\n",
        "   - `Slower Convergence:` Techniques like dropout and weight decay might slow down training due to their stochastic nature or the additional constraints they impose.\n",
        "\n",
        "6. `Interpretability:`\n",
        "   - `Interpretability Required:` Regularization techniques like L1 regularization (Lasso) can lead to sparse models, which might be easier to interpret in some cases.\n",
        "   - `Not High Priority:` If interpretability is not a concern, other regularization techniques can be considered.\n",
        "\n",
        "7. `Domain Knowledge:`\n",
        "   - `Prior Knowledge:` Depending on domain knowledge, specific regularization techniques might be more suitable. For example, if you know certain features are less relevant, L1 regularization could be applied to encourage feature selection.\n",
        "\n",
        "8. `Hyperparameter Tuning:`\n",
        "   - `Sensitivity to Hyperparameters:` Some regularization techniques have hyperparameters that need to be tuned, such as the strength of regularization in L1 or L2 regularization. This requires additional tuning efforts.\n",
        "\n",
        "9. `Computational Resources:`\n",
        "   - `Resource Constraints:` Techniques like dropout and data augmentation might be more resource-intensive, as they involve modifications during training.\n",
        "\n",
        "10. `Ensemble Methods:`\n",
        "    - `Ensemble Regularization:` Techniques like dropout can be seen as a form of ensemble regularization, where the model is trained with multiple variations of itself.\n",
        "\n",
        "11. `Combining Techniques:`\n",
        "    - `Combining Regularization Techniques:` It's possible to use multiple regularization techniques simultaneously to achieve a stronger regularization effect, but this might require careful tuning and understanding of their interactions.\n",
        "\n",
        "### In conclusion, the choice of regularization technique depends on the specifics of the problem, dataset, model architecture, and resources available. Experimentation and thorough understanding of the trade-offs involved are crucial for selecting the most appropriate regularization strategy to achieve better generalization and prevent overfitting."
      ]
    }
  ],
  "metadata": {
    "kernelspec": {
      "display_name": "venv",
      "language": "python",
      "name": "python3"
    },
    "language_info": {
      "codemirror_mode": {
        "name": "ipython",
        "version": 3
      },
      "file_extension": ".py",
      "mimetype": "text/x-python",
      "name": "python",
      "nbconvert_exporter": "python",
      "pygments_lexer": "ipython3",
      "version": "3.11.5"
    },
    "orig_nbformat": 4,
    "colab": {
      "provenance": []
    }
  },
  "nbformat": 4,
  "nbformat_minor": 0
}